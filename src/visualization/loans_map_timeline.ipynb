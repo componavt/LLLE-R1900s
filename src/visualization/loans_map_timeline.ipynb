{
  "nbformat": 4,
  "nbformat_minor": 0,
  "metadata": {
    "colab": {
      "provenance": [],
      "authorship_tag": "ABX9TyOBIhGjziPIu5W9TRmXA7UY",
      "include_colab_link": true
    },
    "kernelspec": {
      "name": "python3",
      "display_name": "Python 3"
    },
    "language_info": {
      "name": "python"
    }
  },
  "cells": [
    {
      "cell_type": "markdown",
      "metadata": {
        "id": "view-in-github",
        "colab_type": "text"
      },
      "source": [
        "<a href=\"https://colab.research.google.com/github/componavt/LLLE-R1900s/blob/main/src/visualization/loans_map_timeline.ipynb\" target=\"_parent\"><img src=\"https://colab.research.google.com/assets/colab-badge.svg\" alt=\"Open In Colab\"/></a>"
      ]
    },
    {
      "cell_type": "markdown",
      "source": [
        "# 📈 Rural Credit Trends in Early 20th Century Russia\n",
        "\n",
        "This notebook visualizes loan amount trends over time, broken down by:\n",
        "- **Settlements** (villages, volosts, etc.)\n",
        "- **Credit types** (e.g., FarmBuildings, Livestock, Housing)\n",
        "\n",
        "Data source: cleaned CSV from `csv_out/`, specified in `config.env`.\n",
        "\n",
        "Built for Google Colab. Just click \"Run All\" to generate plots."
      ],
      "metadata": {
        "id": "W3qoTRWKzxKD"
      }
    },
    {
      "cell_type": "code",
      "execution_count": 1,
      "metadata": {
        "id": "_ss_1g01xCo1"
      },
      "outputs": [],
      "source": [
        "# Install required packages (if not already installed)\n",
        "!pip install -q python-dotenv pandas plotly"
      ]
    },
    {
      "cell_type": "code",
      "source": [
        "# Clone the repo if running in Colab (optional — if data not uploaded manually)\n",
        "import os\n",
        "\n",
        "if not os.path.exists('LLLE-R1900s'):\n",
        "    !git clone https://github.com/componavt/LLLE-R1900s.git\n",
        "    %cd LLLE-R1900s\n",
        "else:\n",
        "    %cd LLLE-R1900s"
      ],
      "metadata": {
        "colab": {
          "base_uri": "https://localhost:8080/"
        },
        "id": "WZuTtoCLz6KK",
        "outputId": "7fcf1261-3cfe-435a-900b-c155e6b17e57"
      },
      "execution_count": 2,
      "outputs": [
        {
          "output_type": "stream",
          "name": "stdout",
          "text": [
            "Cloning into 'LLLE-R1900s'...\n",
            "remote: Enumerating objects: 135, done.\u001b[K\n",
            "remote: Counting objects: 100% (135/135), done.\u001b[K\n",
            "remote: Compressing objects: 100% (87/87), done.\u001b[K\n",
            "remote: Total 135 (delta 71), reused 92 (delta 42), pack-reused 0 (from 0)\u001b[K\n",
            "Receiving objects: 100% (135/135), 593.58 KiB | 3.03 MiB/s, done.\n",
            "Resolving deltas: 100% (71/71), done.\n",
            "/content/LLLE-R1900s\n"
          ]
        }
      ]
    },
    {
      "cell_type": "code",
      "source": [
        "import os\n",
        "import pandas as pd\n",
        "from dotenv import load_dotenv\n",
        "import plotly.express as px\n",
        "import plotly.graph_objects as go\n",
        "\n",
        "# Load configuration\n",
        "load_dotenv('config.env')\n",
        "\n",
        "# Get paths\n",
        "csv_out_dir = os.getenv('CSV_OUT_DIR', 'data/csv_out')\n",
        "society_file = 'data/society_settlement.csv'\n",
        "output_file_name = os.getenv('OUTPUT_CSV_FILE')\n",
        "\n",
        "if not output_file_name:\n",
        "    csv_files = [f for f in os.listdir(csv_out_dir) if f.endswith('.csv')]\n",
        "    if not csv_files:\n",
        "        raise FileNotFoundError(\"No CSV files found in the output directory.\")\n",
        "    output_file_name = csv_files[0]\n",
        "\n",
        "csv_path = os.path.join(csv_out_dir, output_file_name)\n",
        "print(f\"Loading loan data from: {csv_path}\")\n",
        "\n",
        "# Load loan data\n",
        "df_loans = pd.read_csv(csv_path)\n",
        "print(f\"Loaded {len(df_loans)} loan records.\")\n",
        "\n",
        "# Load society/settlement data with coordinates\n",
        "df_society = pd.read_csv(society_file)\n",
        "print(f\"Loaded {len(df_society)} settlements with coordinates.\")\n",
        "\n",
        "# Merge loan data with coordinates by settlement name\n",
        "df_merged = df_loans.merge(\n",
        "    df_society[['English', 'Settlement', 'Latitude', 'Longitude']],\n",
        "    left_on='settlement',\n",
        "    right_on='English',\n",
        "    how='left'\n",
        ")\n",
        "\n",
        "# Check for missing coordinates\n",
        "missing = df_merged[df_merged['Latitude'].isna()]\n",
        "if not missing.empty:\n",
        "    print(\"⚠️ Warning: Some settlements have no coordinates:\")\n",
        "    print(missing['settlement'].unique())\n",
        "\n",
        "# Drop rows without coordinates\n",
        "df_merged = df_merged.dropna(subset=['Latitude', 'Longitude'])\n",
        "\n",
        "# Create vertical offset for \"3D effect\" — shift latitude slightly by year\n",
        "# Normalize year to create small vertical shifts (e.g., 0.01° per year)\n",
        "min_year = df_merged['year'].min()\n",
        "df_merged['Latitude_Offset'] = df_merged['Latitude'] + (df_merged['year'] - min_year) * 0.015\n",
        "\n",
        "# Optional: Define a consistent color map for credit items\n",
        "credit_items = df_merged['credit_item'].unique()\n",
        "color_map = {item: px.colors.qualitative.Plotly[i % len(px.colors.qualitative.Plotly)]\n",
        "             for i, item in enumerate(credit_items)}\n",
        "\n",
        "# Create the plot\n",
        "fig = go.Figure()\n",
        "\n",
        "for credit_type in credit_items:\n",
        "    df_subset = df_merged[df_merged['credit_item'] == credit_type]\n",
        "    fig.add_trace(go.Scattermapbox(\n",
        "        lat=df_subset['Latitude_Offset'],\n",
        "        lon=df_subset['Longitude'],\n",
        "        mode='markers',\n",
        "        marker=go.scattermapbox.Marker(\n",
        "            size=df_subset['amount_rubles'] / df_merged['amount_rubles'].max() * 50 + 5,  # scale size\n",
        "            color=color_map[credit_type],\n",
        "            opacity=0.8\n",
        "        ),\n",
        "        name=credit_type,\n",
        "        hovertemplate=(\n",
        "            \"<b>Settlement</b>: %{customdata[0]}<br>\" +\n",
        "            \"<b>Year</b>: %{customdata[1]}<br>\" +\n",
        "            \"<b>Credit Type</b>: %{customdata[2]}<br>\" +\n",
        "            \"<b>Amount</b>: %{customdata[3]:.2f} руб.<br>\" +\n",
        "            \"<b>Loans</b>: %{customdata[4]}<extra></extra>\"\n",
        "        ),\n",
        "        customdata=df_subset[['Settlement', 'year', 'credit_item', 'amount_rubles', 'loan_count']].values\n",
        "    ))\n",
        "\n",
        "# Set map layout\n",
        "fig.update_layout(\n",
        "    title=\"Loans by Settlement, Year, and Credit Type (Vertical Timeline)\",\n",
        "    mapbox=dict(\n",
        "        style=\"open-street-map\",\n",
        "        center=dict(lat=df_merged['Latitude'].mean(), lon=df_merged['Longitude'].mean()),\n",
        "        zoom=6\n",
        "    ),\n",
        "    margin={\"r\":0,\"t\":50,\"l\":0,\"b\":0},\n",
        "    legend_title=\"Credit Type\",\n",
        "    height=800\n",
        ")\n",
        "\n",
        "# Ensure outputs directory exists\n",
        "os.makedirs('outputs', exist_ok=True)\n",
        "\n",
        "# Save and show\n",
        "fig.write_html(\"outputs/loans_map_3d_timeline.html\")\n",
        "fig.show()\n",
        "\n",
        "print(\"✅ Interactive map saved to: outputs/loans_map_3d_timeline.html\")"
      ],
      "metadata": {
        "colab": {
          "base_uri": "https://localhost:8080/",
          "height": 888
        },
        "id": "ZbU28lXhz_3q",
        "outputId": "6b8d9688-e413-474c-90c0-2807dc518d5f"
      },
      "execution_count": 4,
      "outputs": [
        {
          "output_type": "stream",
          "name": "stdout",
          "text": [
            "Loading loan data from: data/csv_out/loans_s4_i16.csv\n",
            "Loaded 148 loan records.\n",
            "Loaded 29 settlements with coordinates.\n"
          ]
        },
        {
          "output_type": "display_data",
          "data": {
            "text/html": [
              "<html>\n",
              "<head><meta charset=\"utf-8\" /></head>\n",
              "<body>\n",
              "    <div>            <script src=\"https://cdnjs.cloudflare.com/ajax/libs/mathjax/2.7.5/MathJax.js?config=TeX-AMS-MML_SVG\"></script><script type=\"text/javascript\">if (window.MathJax && window.MathJax.Hub && window.MathJax.Hub.Config) {window.MathJax.Hub.Config({SVG: {font: \"STIX-Web\"}});}</script>                <script type=\"text/javascript\">window.PlotlyConfig = {MathJaxConfig: 'local'};</script>\n",
              "        <script charset=\"utf-8\" src=\"https://cdn.plot.ly/plotly-2.35.2.min.js\"></script>                <div id=\"c342b189-ffed-42fe-b464-84fc19f86be2\" class=\"plotly-graph-div\" style=\"height:800px; width:100%;\"></div>            <script type=\"text/javascript\">                                    window.PLOTLYENV=window.PLOTLYENV || {};                                    if (document.getElementById(\"c342b189-ffed-42fe-b464-84fc19f86be2\")) {                    Plotly.newPlot(                        \"c342b189-ffed-42fe-b464-84fc19f86be2\",                        [{\"customdata\":[[\"Ивины\",1916,\"FarmBuildings\",25,1],[\"Ивины\",1916,\"FarmBuildings\",25,2],[\"Ивины\",1916,\"FarmBuildings\",25,1],[\"Кузаранда\",1916,\"FarmBuildings\",213,4],[\"Кузаранда\",1916,\"FarmBuildings\",20,1],[\"Кузаранда\",1916,\"FarmBuildings\",190,4],[\"Кузаранда\",1916,\"FarmBuildings\",25,1],[\"Кузаранда\",1916,\"FarmBuildings\",30,1],[\"Кузаранда\",1916,\"FarmBuildings\",10,1],[\"Кузаранда\",1916,\"FarmBuildings\",175,4],[\"Кузаранда\",1916,\"FarmBuildings\",110,3],[\"Кузаранда\",1916,\"FarmBuildings\",50,1],[\"Ладва\",1917,\"FarmBuildings\",105,3]],\"hovertemplate\":\"\\u003cb\\u003eSettlement\\u003c\\u002fb\\u003e: %{customdata[0]}\\u003cbr\\u003e\\u003cb\\u003eYear\\u003c\\u002fb\\u003e: %{customdata[1]}\\u003cbr\\u003e\\u003cb\\u003eCredit Type\\u003c\\u002fb\\u003e: %{customdata[2]}\\u003cbr\\u003e\\u003cb\\u003eAmount\\u003c\\u002fb\\u003e: %{customdata[3]:.2f} руб.\\u003cbr\\u003e\\u003cb\\u003eLoans\\u003c\\u002fb\\u003e: %{customdata[4]}\\u003cextra\\u003e\\u003c\\u002fextra\\u003e\",\"lat\":[61.213796,61.213796,61.213796,62.377522,62.377522,62.377522,62.377522,62.377522,62.377522,62.377522,62.377522,62.377522,61.371007],\"lon\":[34.87022,34.87022,34.87022,35.520896,35.520896,35.520896,35.520896,35.520896,35.520896,35.520896,35.520896,35.520896,34.62921],\"marker\":{\"color\":\"#636EFA\",\"opacity\":0.8,\"size\":[6.55860349127182,6.55860349127182,6.55860349127182,18.279301745635912,6.246882793017456,16.845386533665838,6.55860349127182,6.870324189526185,5.623441396508728,15.910224438902743,11.85785536159601,8.11720698254364,11.546134663341647]},\"mode\":\"markers\",\"name\":\"FarmBuildings\",\"type\":\"scattermapbox\"},{\"customdata\":[[\"Ивины\",1916,\"LandImprovement\",400,2],[\"Ивины\",1916,\"LandImprovement\",460,7],[\"Ивины\",1916,\"LandImprovement\",700,4],[\"Ивины\",1916,\"LandImprovement\",735,6],[\"Кузаранда\",1916,\"LandImprovement\",10,1],[\"Кузаранда\",1916,\"LandImprovement\",70,1],[\"Ладва\",1917,\"LandImprovement\",50,1]],\"hovertemplate\":\"\\u003cb\\u003eSettlement\\u003c\\u002fb\\u003e: %{customdata[0]}\\u003cbr\\u003e\\u003cb\\u003eYear\\u003c\\u002fb\\u003e: %{customdata[1]}\\u003cbr\\u003e\\u003cb\\u003eCredit Type\\u003c\\u002fb\\u003e: %{customdata[2]}\\u003cbr\\u003e\\u003cb\\u003eAmount\\u003c\\u002fb\\u003e: %{customdata[3]:.2f} руб.\\u003cbr\\u003e\\u003cb\\u003eLoans\\u003c\\u002fb\\u003e: %{customdata[4]}\\u003cextra\\u003e\\u003c\\u002fextra\\u003e\",\"lat\":[61.213796,61.213796,61.213796,61.213796,62.377522,62.377522,61.371007],\"lon\":[34.87022,34.87022,34.87022,34.87022,35.520896,35.520896,34.62921],\"marker\":{\"color\":\"#EF553B\",\"opacity\":0.8,\"size\":[29.93765586034913,33.6783042394015,48.64089775561097,50.82294264339152,5.623441396508728,9.364089775561098,8.11720698254364]},\"mode\":\"markers\",\"name\":\"LandImprovement\",\"type\":\"scattermapbox\"},{\"customdata\":[[\"Ивины\",1916,\"Livestock\",250,3],[\"Ивины\",1916,\"Livestock\",220,2],[\"Ивины\",1916,\"Livestock\",405,4],[\"Ивины\",1916,\"Livestock\",570,8],[\"Кузаранда\",1916,\"Livestock\",802,19],[\"Кузаранда\",1916,\"Livestock\",120,2],[\"Кузаранда\",1916,\"Livestock\",185,7],[\"Кузаранда\",1916,\"Livestock\",50,1],[\"Кузаранда\",1916,\"Livestock\",35,1],[\"Кузаранда\",1916,\"Livestock\",30,1],[\"Ведлозеро\",1916,\"Livestock\",380,7],[\"Ведлозеро\",1916,\"Livestock\",60,2],[\"Ведлозеро\",1916,\"Livestock\",220,5],[\"Ведлозеро\",1916,\"Livestock\",70,2],[\"Ведлозеро\",1916,\"Livestock\",145,4],[\"Ведлозеро\",1916,\"Livestock\",110,3],[\"Ведлозеро\",1916,\"Livestock\",175,5],[\"Ведлозеро\",1916,\"Livestock\",80,3]],\"hovertemplate\":\"\\u003cb\\u003eSettlement\\u003c\\u002fb\\u003e: %{customdata[0]}\\u003cbr\\u003e\\u003cb\\u003eYear\\u003c\\u002fb\\u003e: %{customdata[1]}\\u003cbr\\u003e\\u003cb\\u003eCredit Type\\u003c\\u002fb\\u003e: %{customdata[2]}\\u003cbr\\u003e\\u003cb\\u003eAmount\\u003c\\u002fb\\u003e: %{customdata[3]:.2f} руб.\\u003cbr\\u003e\\u003cb\\u003eLoans\\u003c\\u002fb\\u003e: %{customdata[4]}\\u003cextra\\u003e\\u003c\\u002fextra\\u003e\",\"lat\":[61.213796,61.213796,61.213796,61.213796,62.377522,62.377522,62.377522,62.377522,62.377522,62.377522,61.572115,61.572115,61.572115,61.572115,61.572115,61.572115,61.572115,61.572115],\"lon\":[34.87022,34.87022,34.87022,34.87022,35.520896,35.520896,35.520896,35.520896,35.520896,35.520896,32.83602,32.83602,32.83602,32.83602,32.83602,32.83602,32.83602,32.83602],\"marker\":{\"color\":\"#00CC96\",\"opacity\":0.8,\"size\":[20.586034912718205,18.71571072319202,30.249376558603494,40.53615960099751,55.0,12.481296758104738,16.533665835411473,8.11720698254364,7.182044887780549,6.870324189526185,28.690773067331673,8.74064837905237,18.71571072319202,9.364089775561098,14.03990024937656,11.85785536159601,15.910224438902743,9.987531172069826]},\"mode\":\"markers\",\"name\":\"Livestock\",\"type\":\"scattermapbox\"},{\"customdata\":[[\"Ивины\",1916,\"Rent\",50,1]],\"hovertemplate\":\"\\u003cb\\u003eSettlement\\u003c\\u002fb\\u003e: %{customdata[0]}\\u003cbr\\u003e\\u003cb\\u003eYear\\u003c\\u002fb\\u003e: %{customdata[1]}\\u003cbr\\u003e\\u003cb\\u003eCredit Type\\u003c\\u002fb\\u003e: %{customdata[2]}\\u003cbr\\u003e\\u003cb\\u003eAmount\\u003c\\u002fb\\u003e: %{customdata[3]:.2f} руб.\\u003cbr\\u003e\\u003cb\\u003eLoans\\u003c\\u002fb\\u003e: %{customdata[4]}\\u003cextra\\u003e\\u003c\\u002fextra\\u003e\",\"lat\":[61.213796],\"lon\":[34.87022],\"marker\":{\"color\":\"#AB63FA\",\"opacity\":0.8,\"size\":[8.11720698254364]},\"mode\":\"markers\",\"name\":\"Rent\",\"type\":\"scattermapbox\"},{\"customdata\":[[\"Ивины\",1916,\"Migration\",35,1],[\"Ивины\",1916,\"Migration\",30,1],[\"Ивины\",1916,\"Migration\",350,6],[\"Кузаранда\",1916,\"Migration\",16,2],[\"Кузаранда\",1916,\"Migration\",25,1],[\"Кузаранда\",1916,\"Migration\",20,1],[\"Кузаранда\",1916,\"Migration\",10,2],[\"Кузаранда\",1916,\"Migration\",5,1],[\"Ладва\",1917,\"Migration\",65,2]],\"hovertemplate\":\"\\u003cb\\u003eSettlement\\u003c\\u002fb\\u003e: %{customdata[0]}\\u003cbr\\u003e\\u003cb\\u003eYear\\u003c\\u002fb\\u003e: %{customdata[1]}\\u003cbr\\u003e\\u003cb\\u003eCredit Type\\u003c\\u002fb\\u003e: %{customdata[2]}\\u003cbr\\u003e\\u003cb\\u003eAmount\\u003c\\u002fb\\u003e: %{customdata[3]:.2f} руб.\\u003cbr\\u003e\\u003cb\\u003eLoans\\u003c\\u002fb\\u003e: %{customdata[4]}\\u003cextra\\u003e\\u003c\\u002fextra\\u003e\",\"lat\":[61.213796,61.213796,61.213796,62.377522,62.377522,62.377522,62.377522,62.377522,61.371007],\"lon\":[34.87022,34.87022,34.87022,35.520896,35.520896,35.520896,35.520896,35.520896,34.62921],\"marker\":{\"color\":\"#FFA15A\",\"opacity\":0.8,\"size\":[7.182044887780549,6.870324189526185,26.820448877805486,5.997506234413965,6.55860349127182,6.246882793017456,5.623441396508728,5.311720698254364,9.052369077306732]},\"mode\":\"markers\",\"name\":\"Migration\",\"type\":\"scattermapbox\"},{\"customdata\":[[\"Ивины\",1916,\"PersonalExpenses\",30,1],[\"Ивины\",1916,\"PersonalExpenses\",246,9],[\"Ивины\",1916,\"PersonalExpenses\",130,2],[\"Ивины\",1916,\"PersonalExpenses\",105,3],[\"Кузаранда\",1916,\"PersonalExpenses\",622,46],[\"Кузаранда\",1916,\"PersonalExpenses\",136,6],[\"Кузаранда\",1916,\"PersonalExpenses\",215,13],[\"Кузаранда\",1916,\"PersonalExpenses\",75,4],[\"Кузаранда\",1916,\"PersonalExpenses\",461,10],[\"Кузаранда\",1916,\"PersonalExpenses\",150,5],[\"Кузаранда\",1916,\"PersonalExpenses\",34,3],[\"Кузаранда\",1916,\"PersonalExpenses\",130,6],[\"Кузаранда\",1916,\"PersonalExpenses\",156,8],[\"Кузаранда\",1916,\"PersonalExpenses\",180,10],[\"Кузаранда\",1916,\"PersonalExpenses\",264,15],[\"Ведлозеро\",1916,\"PersonalExpenses\",145,6],[\"Ведлозеро\",1916,\"PersonalExpenses\",25,1],[\"Ведлозеро\",1916,\"PersonalExpenses\",33,2],[\"Ведлозеро\",1916,\"PersonalExpenses\",12,1],[\"Ведлозеро\",1916,\"PersonalExpenses\",20,1],[\"Ведлозеро\",1916,\"PersonalExpenses\",15,1]],\"hovertemplate\":\"\\u003cb\\u003eSettlement\\u003c\\u002fb\\u003e: %{customdata[0]}\\u003cbr\\u003e\\u003cb\\u003eYear\\u003c\\u002fb\\u003e: %{customdata[1]}\\u003cbr\\u003e\\u003cb\\u003eCredit Type\\u003c\\u002fb\\u003e: %{customdata[2]}\\u003cbr\\u003e\\u003cb\\u003eAmount\\u003c\\u002fb\\u003e: %{customdata[3]:.2f} руб.\\u003cbr\\u003e\\u003cb\\u003eLoans\\u003c\\u002fb\\u003e: %{customdata[4]}\\u003cextra\\u003e\\u003c\\u002fextra\\u003e\",\"lat\":[61.213796,61.213796,61.213796,61.213796,62.377522,62.377522,62.377522,62.377522,62.377522,62.377522,62.377522,62.377522,62.377522,62.377522,62.377522,61.572115,61.572115,61.572115,61.572115,61.572115,61.572115],\"lon\":[34.87022,34.87022,34.87022,34.87022,35.520896,35.520896,35.520896,35.520896,35.520896,35.520896,35.520896,35.520896,35.520896,35.520896,35.520896,32.83602,32.83602,32.83602,32.83602,32.83602,32.83602],\"marker\":{\"color\":\"#19D3F3\",\"opacity\":0.8,\"size\":[6.870324189526185,20.33665835411471,13.104738154613466,11.546134663341647,43.77805486284289,13.478802992518704,18.403990024937656,9.675810473815462,33.740648379052374,14.351620947630924,7.1197007481296755,13.104738154613466,14.72568578553616,16.221945137157107,21.458852867830423,14.03990024937656,6.55860349127182,7.057356608478803,5.748129675810474,6.246882793017456,5.9351620947630925]},\"mode\":\"markers\",\"name\":\"PersonalExpenses\",\"type\":\"scattermapbox\"},{\"customdata\":[[\"Ивины\",1916,\"Housing\",50,1],[\"Ивины\",1916,\"Housing\",285,5],[\"Кузаранда\",1916,\"Housing\",300,6],[\"Кузаранда\",1916,\"Housing\",5,1],[\"Кузаранда\",1916,\"Housing\",20,1],[\"Кузаранда\",1916,\"Housing\",20,1],[\"Кузаранда\",1916,\"Housing\",65,2],[\"Кузаранда\",1916,\"Housing\",65,2],[\"Ладва\",1917,\"Housing\",780,9],[\"Ведлозеро\",1916,\"Housing\",711,15],[\"Ведлозеро\",1916,\"Housing\",95,3],[\"Ведлозеро\",1916,\"Housing\",535,13],[\"Ведлозеро\",1916,\"Housing\",195,5],[\"Ведлозеро\",1916,\"Housing\",250,5],[\"Ведлозеро\",1916,\"Housing\",170,3],[\"Ведлозеро\",1916,\"Housing\",380,11],[\"Ведлозеро\",1916,\"Housing\",290,9],[\"Ведлозеро\",1916,\"Housing\",210,5]],\"hovertemplate\":\"\\u003cb\\u003eSettlement\\u003c\\u002fb\\u003e: %{customdata[0]}\\u003cbr\\u003e\\u003cb\\u003eYear\\u003c\\u002fb\\u003e: %{customdata[1]}\\u003cbr\\u003e\\u003cb\\u003eCredit Type\\u003c\\u002fb\\u003e: %{customdata[2]}\\u003cbr\\u003e\\u003cb\\u003eAmount\\u003c\\u002fb\\u003e: %{customdata[3]:.2f} руб.\\u003cbr\\u003e\\u003cb\\u003eLoans\\u003c\\u002fb\\u003e: %{customdata[4]}\\u003cextra\\u003e\\u003c\\u002fextra\\u003e\",\"lat\":[61.213796,61.213796,62.377522,62.377522,62.377522,62.377522,62.377522,62.377522,61.371007,61.572115,61.572115,61.572115,61.572115,61.572115,61.572115,61.572115,61.572115,61.572115],\"lon\":[34.87022,34.87022,35.520896,35.520896,35.520896,35.520896,35.520896,35.520896,34.62921,32.83602,32.83602,32.83602,32.83602,32.83602,32.83602,32.83602,32.83602,32.83602],\"marker\":{\"color\":\"#FF6692\",\"opacity\":0.8,\"size\":[8.11720698254364,22.768079800498754,23.703241895261847,5.311720698254364,6.246882793017456,6.246882793017456,9.052369077306732,9.052369077306732,53.6284289276808,49.32668329177057,10.922693266832919,38.35411471321696,17.1571072319202,20.586034912718205,15.598503740648379,28.690773067331673,23.07980049875312,18.092269326683294]},\"mode\":\"markers\",\"name\":\"Housing\",\"type\":\"scattermapbox\"},{\"customdata\":[[\"Ивины\",1916,\"CraftMaterials\",25,1],[\"Ивины\",1916,\"CraftMaterials\",30,1],[\"Кузаранда\",1916,\"CraftMaterials\",90,7],[\"Кузаранда\",1916,\"CraftMaterials\",40,2],[\"Кузаранда\",1916,\"CraftMaterials\",20,1],[\"Кузаранда\",1916,\"CraftMaterials\",15,1],[\"Кузаранда\",1916,\"CraftMaterials\",225,3],[\"Кузаранда\",1916,\"CraftMaterials\",10,1],[\"Ладва\",1917,\"CraftMaterials\",200,2],[\"Ведлозеро\",1916,\"CraftMaterials\",115,2]],\"hovertemplate\":\"\\u003cb\\u003eSettlement\\u003c\\u002fb\\u003e: %{customdata[0]}\\u003cbr\\u003e\\u003cb\\u003eYear\\u003c\\u002fb\\u003e: %{customdata[1]}\\u003cbr\\u003e\\u003cb\\u003eCredit Type\\u003c\\u002fb\\u003e: %{customdata[2]}\\u003cbr\\u003e\\u003cb\\u003eAmount\\u003c\\u002fb\\u003e: %{customdata[3]:.2f} руб.\\u003cbr\\u003e\\u003cb\\u003eLoans\\u003c\\u002fb\\u003e: %{customdata[4]}\\u003cextra\\u003e\\u003c\\u002fextra\\u003e\",\"lat\":[61.213796,61.213796,62.377522,62.377522,62.377522,62.377522,62.377522,62.377522,61.371007,61.572115],\"lon\":[34.87022,34.87022,35.520896,35.520896,35.520896,35.520896,35.520896,35.520896,34.62921,32.83602],\"marker\":{\"color\":\"#B6E880\",\"opacity\":0.8,\"size\":[6.55860349127182,6.870324189526185,10.610972568578553,7.493765586034913,6.246882793017456,5.9351620947630925,19.027431421446387,5.623441396508728,17.468827930174562,12.169576059850375]},\"mode\":\"markers\",\"name\":\"CraftMaterials\",\"type\":\"scattermapbox\"},{\"customdata\":[[\"Ивины\",1916,\"AnimalFeed\",240,5],[\"Кузаранда\",1916,\"AnimalFeed\",459,31],[\"Кузаранда\",1916,\"AnimalFeed\",16,1],[\"Кузаранда\",1916,\"AnimalFeed\",242,9],[\"Кузаранда\",1916,\"AnimalFeed\",35,1],[\"Кузаранда\",1916,\"AnimalFeed\",48,5],[\"Кузаранда\",1916,\"AnimalFeed\",77,5],[\"Кузаранда\",1916,\"AnimalFeed\",194,11],[\"Ладва\",1917,\"AnimalFeed\",420,3],[\"Ведлозеро\",1916,\"AnimalFeed\",40,1],[\"Ведлозеро\",1916,\"AnimalFeed\",35,1],[\"Ведлозеро\",1916,\"AnimalFeed\",100,2],[\"Ведлозеро\",1916,\"AnimalFeed\",10,1],[\"Ведлозеро\",1916,\"AnimalFeed\",20,1]],\"hovertemplate\":\"\\u003cb\\u003eSettlement\\u003c\\u002fb\\u003e: %{customdata[0]}\\u003cbr\\u003e\\u003cb\\u003eYear\\u003c\\u002fb\\u003e: %{customdata[1]}\\u003cbr\\u003e\\u003cb\\u003eCredit Type\\u003c\\u002fb\\u003e: %{customdata[2]}\\u003cbr\\u003e\\u003cb\\u003eAmount\\u003c\\u002fb\\u003e: %{customdata[3]:.2f} руб.\\u003cbr\\u003e\\u003cb\\u003eLoans\\u003c\\u002fb\\u003e: %{customdata[4]}\\u003cextra\\u003e\\u003c\\u002fextra\\u003e\",\"lat\":[61.213796,62.377522,62.377522,62.377522,62.377522,62.377522,62.377522,62.377522,61.371007,61.572115,61.572115,61.572115,61.572115,61.572115],\"lon\":[34.87022,35.520896,35.520896,35.520896,35.520896,35.520896,35.520896,35.520896,34.62921,32.83602,32.83602,32.83602,32.83602,32.83602],\"marker\":{\"color\":\"#FF97FF\",\"opacity\":0.8,\"size\":[19.962593516209477,33.61596009975062,5.997506234413965,20.087281795511224,7.182044887780549,7.992518703241895,9.800498753117207,17.094763092269325,31.184538653366584,7.493765586034913,7.182044887780549,11.234413965087281,5.623441396508728,6.246882793017456]},\"mode\":\"markers\",\"name\":\"AnimalFeed\",\"type\":\"scattermapbox\"},{\"customdata\":[[\"Ивины\",1916,\"LaborFuel\",20,1],[\"Кузаранда\",1916,\"LaborFuel\",362,16],[\"Кузаранда\",1916,\"LaborFuel\",615,25],[\"Кузаранда\",1916,\"LaborFuel\",60,4],[\"Кузаранда\",1916,\"LaborFuel\",352,15],[\"Кузаранда\",1916,\"LaborFuel\",40,2],[\"Кузаранда\",1916,\"LaborFuel\",149,8],[\"Ладва\",1917,\"LaborFuel\",755,17]],\"hovertemplate\":\"\\u003cb\\u003eSettlement\\u003c\\u002fb\\u003e: %{customdata[0]}\\u003cbr\\u003e\\u003cb\\u003eYear\\u003c\\u002fb\\u003e: %{customdata[1]}\\u003cbr\\u003e\\u003cb\\u003eCredit Type\\u003c\\u002fb\\u003e: %{customdata[2]}\\u003cbr\\u003e\\u003cb\\u003eAmount\\u003c\\u002fb\\u003e: %{customdata[3]:.2f} руб.\\u003cbr\\u003e\\u003cb\\u003eLoans\\u003c\\u002fb\\u003e: %{customdata[4]}\\u003cextra\\u003e\\u003c\\u002fextra\\u003e\",\"lat\":[61.213796,62.377522,62.377522,62.377522,62.377522,62.377522,62.377522,61.371007],\"lon\":[34.87022,35.520896,35.520896,35.520896,35.520896,35.520896,35.520896,34.62921],\"marker\":{\"color\":\"#FECB52\",\"opacity\":0.8,\"size\":[6.246882793017456,27.568578553615957,43.34164588528679,8.74064837905237,26.94513715710723,7.493765586034913,14.28927680798005,52.069825436408976]},\"mode\":\"markers\",\"name\":\"LaborFuel\",\"type\":\"scattermapbox\"},{\"customdata\":[[\"Кузаранда\",1916,\"Seeds\",25,1],[\"Кузаранда\",1916,\"Seeds\",76,4],[\"Кузаранда\",1916,\"Seeds\",303,13],[\"Кузаранда\",1916,\"Seeds\",155,10],[\"Кузаранда\",1916,\"Seeds\",265,14],[\"Кузаранда\",1916,\"Seeds\",10,1],[\"Ладва\",1917,\"Seeds\",95,3],[\"Ведлозеро\",1916,\"Seeds\",713,27],[\"Ведлозеро\",1916,\"Seeds\",125,4],[\"Ведлозеро\",1916,\"Seeds\",340,13],[\"Ведлозеро\",1916,\"Seeds\",330,14]],\"hovertemplate\":\"\\u003cb\\u003eSettlement\\u003c\\u002fb\\u003e: %{customdata[0]}\\u003cbr\\u003e\\u003cb\\u003eYear\\u003c\\u002fb\\u003e: %{customdata[1]}\\u003cbr\\u003e\\u003cb\\u003eCredit Type\\u003c\\u002fb\\u003e: %{customdata[2]}\\u003cbr\\u003e\\u003cb\\u003eAmount\\u003c\\u002fb\\u003e: %{customdata[3]:.2f} руб.\\u003cbr\\u003e\\u003cb\\u003eLoans\\u003c\\u002fb\\u003e: %{customdata[4]}\\u003cextra\\u003e\\u003c\\u002fextra\\u003e\",\"lat\":[62.377522,62.377522,62.377522,62.377522,62.377522,62.377522,61.371007,61.572115,61.572115,61.572115,61.572115],\"lon\":[35.520896,35.520896,35.520896,35.520896,35.520896,35.520896,34.62921,32.83602,32.83602,32.83602,32.83602],\"marker\":{\"color\":\"#636EFA\",\"opacity\":0.8,\"size\":[6.55860349127182,9.738154613466335,23.890274314214466,14.663341645885287,21.521197007481298,5.623441396508728,10.922693266832919,49.451371571072315,12.793017456359102,26.197007481296758,25.57356608478803]},\"mode\":\"markers\",\"name\":\"Seeds\",\"type\":\"scattermapbox\"},{\"customdata\":[[\"Кузаранда\",1916,\"GoodsForSale\",200,1],[\"Кузаранда\",1916,\"GoodsForSale\",300,1],[\"Кузаранда\",1916,\"GoodsForSale\",300,2],[\"Ладва\",1917,\"GoodsForSale\",200,1],[\"Ведлозеро\",1916,\"GoodsForSale\",50,1]],\"hovertemplate\":\"\\u003cb\\u003eSettlement\\u003c\\u002fb\\u003e: %{customdata[0]}\\u003cbr\\u003e\\u003cb\\u003eYear\\u003c\\u002fb\\u003e: %{customdata[1]}\\u003cbr\\u003e\\u003cb\\u003eCredit Type\\u003c\\u002fb\\u003e: %{customdata[2]}\\u003cbr\\u003e\\u003cb\\u003eAmount\\u003c\\u002fb\\u003e: %{customdata[3]:.2f} руб.\\u003cbr\\u003e\\u003cb\\u003eLoans\\u003c\\u002fb\\u003e: %{customdata[4]}\\u003cextra\\u003e\\u003c\\u002fextra\\u003e\",\"lat\":[62.377522,62.377522,62.377522,61.371007,61.572115],\"lon\":[35.520896,35.520896,35.520896,34.62921,32.83602],\"marker\":{\"color\":\"#EF553B\",\"opacity\":0.8,\"size\":[17.468827930174562,23.703241895261847,23.703241895261847,17.468827930174562,8.11720698254364]},\"mode\":\"markers\",\"name\":\"GoodsForSale\",\"type\":\"scattermapbox\"},{\"customdata\":[[\"Кузаранда\",1916,\"DebtRepayment\",10,1],[\"Кузаранда\",1916,\"DebtRepayment\",11,1],[\"Кузаранда\",1916,\"DebtRepayment\",35,2],[\"Кузаранда\",1916,\"DebtRepayment\",14,1],[\"Кузаранда\",1916,\"DebtRepayment\",65,3],[\"Кузаранда\",1916,\"DebtRepayment\",35,2],[\"Кузаранда\",1916,\"DebtRepayment\",45,2],[\"Ведлозеро\",1916,\"DebtRepayment\",20,1],[\"Ведлозеро\",1916,\"DebtRepayment\",18,1]],\"hovertemplate\":\"\\u003cb\\u003eSettlement\\u003c\\u002fb\\u003e: %{customdata[0]}\\u003cbr\\u003e\\u003cb\\u003eYear\\u003c\\u002fb\\u003e: %{customdata[1]}\\u003cbr\\u003e\\u003cb\\u003eCredit Type\\u003c\\u002fb\\u003e: %{customdata[2]}\\u003cbr\\u003e\\u003cb\\u003eAmount\\u003c\\u002fb\\u003e: %{customdata[3]:.2f} руб.\\u003cbr\\u003e\\u003cb\\u003eLoans\\u003c\\u002fb\\u003e: %{customdata[4]}\\u003cextra\\u003e\\u003c\\u002fextra\\u003e\",\"lat\":[62.377522,62.377522,62.377522,62.377522,62.377522,62.377522,62.377522,61.572115,61.572115],\"lon\":[35.520896,35.520896,35.520896,35.520896,35.520896,35.520896,35.520896,32.83602,32.83602],\"marker\":{\"color\":\"#00CC96\",\"opacity\":0.8,\"size\":[5.623441396508728,5.685785536159601,7.182044887780549,5.872817955112219,9.052369077306732,7.182044887780549,7.805486284289277,6.246882793017456,6.12219451371571]},\"mode\":\"markers\",\"name\":\"DebtRepayment\",\"type\":\"scattermapbox\"},{\"customdata\":[[\"Кузаранда\",1916,\"FarmTools\",37,4],[\"Ладва\",1917,\"FarmTools\",255,7]],\"hovertemplate\":\"\\u003cb\\u003eSettlement\\u003c\\u002fb\\u003e: %{customdata[0]}\\u003cbr\\u003e\\u003cb\\u003eYear\\u003c\\u002fb\\u003e: %{customdata[1]}\\u003cbr\\u003e\\u003cb\\u003eCredit Type\\u003c\\u002fb\\u003e: %{customdata[2]}\\u003cbr\\u003e\\u003cb\\u003eAmount\\u003c\\u002fb\\u003e: %{customdata[3]:.2f} руб.\\u003cbr\\u003e\\u003cb\\u003eLoans\\u003c\\u002fb\\u003e: %{customdata[4]}\\u003cextra\\u003e\\u003c\\u002fextra\\u003e\",\"lat\":[62.377522,61.371007],\"lon\":[35.520896,34.62921],\"marker\":{\"color\":\"#AB63FA\",\"opacity\":0.8,\"size\":[7.306733167082294,20.897755610972567]},\"mode\":\"markers\",\"name\":\"FarmTools\",\"type\":\"scattermapbox\"},{\"customdata\":[[\"Кузаранда\",1916,\"CraftTools\",100,1]],\"hovertemplate\":\"\\u003cb\\u003eSettlement\\u003c\\u002fb\\u003e: %{customdata[0]}\\u003cbr\\u003e\\u003cb\\u003eYear\\u003c\\u002fb\\u003e: %{customdata[1]}\\u003cbr\\u003e\\u003cb\\u003eCredit Type\\u003c\\u002fb\\u003e: %{customdata[2]}\\u003cbr\\u003e\\u003cb\\u003eAmount\\u003c\\u002fb\\u003e: %{customdata[3]:.2f} руб.\\u003cbr\\u003e\\u003cb\\u003eLoans\\u003c\\u002fb\\u003e: %{customdata[4]}\\u003cextra\\u003e\\u003c\\u002fextra\\u003e\",\"lat\":[62.377522],\"lon\":[35.520896],\"marker\":{\"color\":\"#FFA15A\",\"opacity\":0.8,\"size\":[11.234413965087281]},\"mode\":\"markers\",\"name\":\"CraftTools\",\"type\":\"scattermapbox\"},{\"customdata\":[[\"Ладва\",1917,\"LandPurchase\",200,1]],\"hovertemplate\":\"\\u003cb\\u003eSettlement\\u003c\\u002fb\\u003e: %{customdata[0]}\\u003cbr\\u003e\\u003cb\\u003eYear\\u003c\\u002fb\\u003e: %{customdata[1]}\\u003cbr\\u003e\\u003cb\\u003eCredit Type\\u003c\\u002fb\\u003e: %{customdata[2]}\\u003cbr\\u003e\\u003cb\\u003eAmount\\u003c\\u002fb\\u003e: %{customdata[3]:.2f} руб.\\u003cbr\\u003e\\u003cb\\u003eLoans\\u003c\\u002fb\\u003e: %{customdata[4]}\\u003cextra\\u003e\\u003c\\u002fextra\\u003e\",\"lat\":[61.371007],\"lon\":[34.62921],\"marker\":{\"color\":\"#19D3F3\",\"opacity\":0.8,\"size\":[17.468827930174562]},\"mode\":\"markers\",\"name\":\"LandPurchase\",\"type\":\"scattermapbox\"}],                        {\"template\":{\"data\":{\"histogram2dcontour\":[{\"type\":\"histogram2dcontour\",\"colorbar\":{\"outlinewidth\":0,\"ticks\":\"\"},\"colorscale\":[[0.0,\"#0d0887\"],[0.1111111111111111,\"#46039f\"],[0.2222222222222222,\"#7201a8\"],[0.3333333333333333,\"#9c179e\"],[0.4444444444444444,\"#bd3786\"],[0.5555555555555556,\"#d8576b\"],[0.6666666666666666,\"#ed7953\"],[0.7777777777777778,\"#fb9f3a\"],[0.8888888888888888,\"#fdca26\"],[1.0,\"#f0f921\"]]}],\"choropleth\":[{\"type\":\"choropleth\",\"colorbar\":{\"outlinewidth\":0,\"ticks\":\"\"}}],\"histogram2d\":[{\"type\":\"histogram2d\",\"colorbar\":{\"outlinewidth\":0,\"ticks\":\"\"},\"colorscale\":[[0.0,\"#0d0887\"],[0.1111111111111111,\"#46039f\"],[0.2222222222222222,\"#7201a8\"],[0.3333333333333333,\"#9c179e\"],[0.4444444444444444,\"#bd3786\"],[0.5555555555555556,\"#d8576b\"],[0.6666666666666666,\"#ed7953\"],[0.7777777777777778,\"#fb9f3a\"],[0.8888888888888888,\"#fdca26\"],[1.0,\"#f0f921\"]]}],\"heatmap\":[{\"type\":\"heatmap\",\"colorbar\":{\"outlinewidth\":0,\"ticks\":\"\"},\"colorscale\":[[0.0,\"#0d0887\"],[0.1111111111111111,\"#46039f\"],[0.2222222222222222,\"#7201a8\"],[0.3333333333333333,\"#9c179e\"],[0.4444444444444444,\"#bd3786\"],[0.5555555555555556,\"#d8576b\"],[0.6666666666666666,\"#ed7953\"],[0.7777777777777778,\"#fb9f3a\"],[0.8888888888888888,\"#fdca26\"],[1.0,\"#f0f921\"]]}],\"heatmapgl\":[{\"type\":\"heatmapgl\",\"colorbar\":{\"outlinewidth\":0,\"ticks\":\"\"},\"colorscale\":[[0.0,\"#0d0887\"],[0.1111111111111111,\"#46039f\"],[0.2222222222222222,\"#7201a8\"],[0.3333333333333333,\"#9c179e\"],[0.4444444444444444,\"#bd3786\"],[0.5555555555555556,\"#d8576b\"],[0.6666666666666666,\"#ed7953\"],[0.7777777777777778,\"#fb9f3a\"],[0.8888888888888888,\"#fdca26\"],[1.0,\"#f0f921\"]]}],\"contourcarpet\":[{\"type\":\"contourcarpet\",\"colorbar\":{\"outlinewidth\":0,\"ticks\":\"\"}}],\"contour\":[{\"type\":\"contour\",\"colorbar\":{\"outlinewidth\":0,\"ticks\":\"\"},\"colorscale\":[[0.0,\"#0d0887\"],[0.1111111111111111,\"#46039f\"],[0.2222222222222222,\"#7201a8\"],[0.3333333333333333,\"#9c179e\"],[0.4444444444444444,\"#bd3786\"],[0.5555555555555556,\"#d8576b\"],[0.6666666666666666,\"#ed7953\"],[0.7777777777777778,\"#fb9f3a\"],[0.8888888888888888,\"#fdca26\"],[1.0,\"#f0f921\"]]}],\"surface\":[{\"type\":\"surface\",\"colorbar\":{\"outlinewidth\":0,\"ticks\":\"\"},\"colorscale\":[[0.0,\"#0d0887\"],[0.1111111111111111,\"#46039f\"],[0.2222222222222222,\"#7201a8\"],[0.3333333333333333,\"#9c179e\"],[0.4444444444444444,\"#bd3786\"],[0.5555555555555556,\"#d8576b\"],[0.6666666666666666,\"#ed7953\"],[0.7777777777777778,\"#fb9f3a\"],[0.8888888888888888,\"#fdca26\"],[1.0,\"#f0f921\"]]}],\"mesh3d\":[{\"type\":\"mesh3d\",\"colorbar\":{\"outlinewidth\":0,\"ticks\":\"\"}}],\"scatter\":[{\"fillpattern\":{\"fillmode\":\"overlay\",\"size\":10,\"solidity\":0.2},\"type\":\"scatter\"}],\"parcoords\":[{\"type\":\"parcoords\",\"line\":{\"colorbar\":{\"outlinewidth\":0,\"ticks\":\"\"}}}],\"scatterpolargl\":[{\"type\":\"scatterpolargl\",\"marker\":{\"colorbar\":{\"outlinewidth\":0,\"ticks\":\"\"}}}],\"bar\":[{\"error_x\":{\"color\":\"#2a3f5f\"},\"error_y\":{\"color\":\"#2a3f5f\"},\"marker\":{\"line\":{\"color\":\"#E5ECF6\",\"width\":0.5},\"pattern\":{\"fillmode\":\"overlay\",\"size\":10,\"solidity\":0.2}},\"type\":\"bar\"}],\"scattergeo\":[{\"type\":\"scattergeo\",\"marker\":{\"colorbar\":{\"outlinewidth\":0,\"ticks\":\"\"}}}],\"scatterpolar\":[{\"type\":\"scatterpolar\",\"marker\":{\"colorbar\":{\"outlinewidth\":0,\"ticks\":\"\"}}}],\"histogram\":[{\"marker\":{\"pattern\":{\"fillmode\":\"overlay\",\"size\":10,\"solidity\":0.2}},\"type\":\"histogram\"}],\"scattergl\":[{\"type\":\"scattergl\",\"marker\":{\"colorbar\":{\"outlinewidth\":0,\"ticks\":\"\"}}}],\"scatter3d\":[{\"type\":\"scatter3d\",\"line\":{\"colorbar\":{\"outlinewidth\":0,\"ticks\":\"\"}},\"marker\":{\"colorbar\":{\"outlinewidth\":0,\"ticks\":\"\"}}}],\"scattermapbox\":[{\"type\":\"scattermapbox\",\"marker\":{\"colorbar\":{\"outlinewidth\":0,\"ticks\":\"\"}}}],\"scatterternary\":[{\"type\":\"scatterternary\",\"marker\":{\"colorbar\":{\"outlinewidth\":0,\"ticks\":\"\"}}}],\"scattercarpet\":[{\"type\":\"scattercarpet\",\"marker\":{\"colorbar\":{\"outlinewidth\":0,\"ticks\":\"\"}}}],\"carpet\":[{\"aaxis\":{\"endlinecolor\":\"#2a3f5f\",\"gridcolor\":\"white\",\"linecolor\":\"white\",\"minorgridcolor\":\"white\",\"startlinecolor\":\"#2a3f5f\"},\"baxis\":{\"endlinecolor\":\"#2a3f5f\",\"gridcolor\":\"white\",\"linecolor\":\"white\",\"minorgridcolor\":\"white\",\"startlinecolor\":\"#2a3f5f\"},\"type\":\"carpet\"}],\"table\":[{\"cells\":{\"fill\":{\"color\":\"#EBF0F8\"},\"line\":{\"color\":\"white\"}},\"header\":{\"fill\":{\"color\":\"#C8D4E3\"},\"line\":{\"color\":\"white\"}},\"type\":\"table\"}],\"barpolar\":[{\"marker\":{\"line\":{\"color\":\"#E5ECF6\",\"width\":0.5},\"pattern\":{\"fillmode\":\"overlay\",\"size\":10,\"solidity\":0.2}},\"type\":\"barpolar\"}],\"pie\":[{\"automargin\":true,\"type\":\"pie\"}]},\"layout\":{\"autotypenumbers\":\"strict\",\"colorway\":[\"#636efa\",\"#EF553B\",\"#00cc96\",\"#ab63fa\",\"#FFA15A\",\"#19d3f3\",\"#FF6692\",\"#B6E880\",\"#FF97FF\",\"#FECB52\"],\"font\":{\"color\":\"#2a3f5f\"},\"hovermode\":\"closest\",\"hoverlabel\":{\"align\":\"left\"},\"paper_bgcolor\":\"white\",\"plot_bgcolor\":\"#E5ECF6\",\"polar\":{\"bgcolor\":\"#E5ECF6\",\"angularaxis\":{\"gridcolor\":\"white\",\"linecolor\":\"white\",\"ticks\":\"\"},\"radialaxis\":{\"gridcolor\":\"white\",\"linecolor\":\"white\",\"ticks\":\"\"}},\"ternary\":{\"bgcolor\":\"#E5ECF6\",\"aaxis\":{\"gridcolor\":\"white\",\"linecolor\":\"white\",\"ticks\":\"\"},\"baxis\":{\"gridcolor\":\"white\",\"linecolor\":\"white\",\"ticks\":\"\"},\"caxis\":{\"gridcolor\":\"white\",\"linecolor\":\"white\",\"ticks\":\"\"}},\"coloraxis\":{\"colorbar\":{\"outlinewidth\":0,\"ticks\":\"\"}},\"colorscale\":{\"sequential\":[[0.0,\"#0d0887\"],[0.1111111111111111,\"#46039f\"],[0.2222222222222222,\"#7201a8\"],[0.3333333333333333,\"#9c179e\"],[0.4444444444444444,\"#bd3786\"],[0.5555555555555556,\"#d8576b\"],[0.6666666666666666,\"#ed7953\"],[0.7777777777777778,\"#fb9f3a\"],[0.8888888888888888,\"#fdca26\"],[1.0,\"#f0f921\"]],\"sequentialminus\":[[0.0,\"#0d0887\"],[0.1111111111111111,\"#46039f\"],[0.2222222222222222,\"#7201a8\"],[0.3333333333333333,\"#9c179e\"],[0.4444444444444444,\"#bd3786\"],[0.5555555555555556,\"#d8576b\"],[0.6666666666666666,\"#ed7953\"],[0.7777777777777778,\"#fb9f3a\"],[0.8888888888888888,\"#fdca26\"],[1.0,\"#f0f921\"]],\"diverging\":[[0,\"#8e0152\"],[0.1,\"#c51b7d\"],[0.2,\"#de77ae\"],[0.3,\"#f1b6da\"],[0.4,\"#fde0ef\"],[0.5,\"#f7f7f7\"],[0.6,\"#e6f5d0\"],[0.7,\"#b8e186\"],[0.8,\"#7fbc41\"],[0.9,\"#4d9221\"],[1,\"#276419\"]]},\"xaxis\":{\"gridcolor\":\"white\",\"linecolor\":\"white\",\"ticks\":\"\",\"title\":{\"standoff\":15},\"zerolinecolor\":\"white\",\"automargin\":true,\"zerolinewidth\":2},\"yaxis\":{\"gridcolor\":\"white\",\"linecolor\":\"white\",\"ticks\":\"\",\"title\":{\"standoff\":15},\"zerolinecolor\":\"white\",\"automargin\":true,\"zerolinewidth\":2},\"scene\":{\"xaxis\":{\"backgroundcolor\":\"#E5ECF6\",\"gridcolor\":\"white\",\"linecolor\":\"white\",\"showbackground\":true,\"ticks\":\"\",\"zerolinecolor\":\"white\",\"gridwidth\":2},\"yaxis\":{\"backgroundcolor\":\"#E5ECF6\",\"gridcolor\":\"white\",\"linecolor\":\"white\",\"showbackground\":true,\"ticks\":\"\",\"zerolinecolor\":\"white\",\"gridwidth\":2},\"zaxis\":{\"backgroundcolor\":\"#E5ECF6\",\"gridcolor\":\"white\",\"linecolor\":\"white\",\"showbackground\":true,\"ticks\":\"\",\"zerolinecolor\":\"white\",\"gridwidth\":2}},\"shapedefaults\":{\"line\":{\"color\":\"#2a3f5f\"}},\"annotationdefaults\":{\"arrowcolor\":\"#2a3f5f\",\"arrowhead\":0,\"arrowwidth\":1},\"geo\":{\"bgcolor\":\"white\",\"landcolor\":\"#E5ECF6\",\"subunitcolor\":\"white\",\"showland\":true,\"showlakes\":true,\"lakecolor\":\"white\"},\"title\":{\"x\":0.05},\"mapbox\":{\"style\":\"light\"}}},\"mapbox\":{\"center\":{\"lat\":61.90911343918919,\"lon\":34.691632608108115},\"style\":\"open-street-map\",\"zoom\":6},\"margin\":{\"r\":0,\"t\":50,\"l\":0,\"b\":0},\"title\":{\"text\":\"Loans by Settlement, Year, and Credit Type (Vertical Timeline)\"},\"legend\":{\"title\":{\"text\":\"Credit Type\"}},\"height\":800},                        {\"responsive\": true}                    ).then(function(){\n",
              "                            \n",
              "var gd = document.getElementById('c342b189-ffed-42fe-b464-84fc19f86be2');\n",
              "var x = new MutationObserver(function (mutations, observer) {{\n",
              "        var display = window.getComputedStyle(gd).display;\n",
              "        if (!display || display === 'none') {{\n",
              "            console.log([gd, 'removed!']);\n",
              "            Plotly.purge(gd);\n",
              "            observer.disconnect();\n",
              "        }}\n",
              "}});\n",
              "\n",
              "// Listen for the removal of the full notebook cells\n",
              "var notebookContainer = gd.closest('#notebook-container');\n",
              "if (notebookContainer) {{\n",
              "    x.observe(notebookContainer, {childList: true});\n",
              "}}\n",
              "\n",
              "// Listen for the clearing of the current output cell\n",
              "var outputEl = gd.closest('.output');\n",
              "if (outputEl) {{\n",
              "    x.observe(outputEl, {childList: true});\n",
              "}}\n",
              "\n",
              "                        })                };                            </script>        </div>\n",
              "</body>\n",
              "</html>"
            ]
          },
          "metadata": {}
        },
        {
          "output_type": "stream",
          "name": "stdout",
          "text": [
            "✅ Interactive map saved to: outputs/loans_map_3d_timeline.html\n"
          ]
        }
      ]
    }
  ]
}