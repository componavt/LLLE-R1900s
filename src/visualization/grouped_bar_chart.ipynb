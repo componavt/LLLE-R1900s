{
  "nbformat": 4,
  "nbformat_minor": 0,
  "metadata": {
    "colab": {
      "provenance": [],
      "authorship_tag": "ABX9TyMFqT5iJl2lf0T9MW4hU2YT",
      "include_colab_link": true
    },
    "kernelspec": {
      "name": "python3",
      "display_name": "Python 3"
    },
    "language_info": {
      "name": "python"
    }
  },
  "cells": [
    {
      "cell_type": "markdown",
      "metadata": {
        "id": "view-in-github",
        "colab_type": "text"
      },
      "source": [
        "<a href=\"https://colab.research.google.com/github/componavt/LLLE-R1900s/blob/main/src/visualization/grouped_bar_chart.ipynb\" target=\"_parent\"><img src=\"https://colab.research.google.com/assets/colab-badge.svg\" alt=\"Open In Colab\"/></a>"
      ]
    },
    {
      "cell_type": "markdown",
      "source": [
        "# 📊 Grouped Bar Chart: Annual Loan Volumes & Counts by Credit Type\n",
        "\n",
        "Visualizes **annual dynamics** of selected credit categories across all settlements.\n",
        "\n",
        "**Top bars (↑)** = total loan amount (in **thousands of rubles**)  \n",
        "**Bottom bars (↓)** = total number of loans  \n",
        "\n",
        "Each selected credit type is shown with:\n",
        "- **Unique color**\n",
        "- **Consistent style** for both amount and count (same color for ↑ and ↓)\n",
        "\n",
        "✨ **Features:**\n",
        "- 🌍 Fully bilingual: toggle between Russian (`ru`) and English (`en`)\n",
        "- 📅 X-axis = years (e.g., 1913–1917)\n",
        "- 🎨 Configurable credit types via `SELECTED_CREDIT_ITEMS`\n",
        "- 📈 Dual-axis: positive (amount) and negative (count) bars share color per category\n",
        "- 🖼️ Rendered directly in Google Colab\n",
        "\n",
        "⚙️ Configure via:\n",
        "- `USE_LANGUAGE` — `\"ru\"` or `\"en\"`\n",
        "- `SELECTED_CREDIT_ITEMS` — list of `Name` values from `credit_items.csv`"
      ],
      "metadata": {
        "id": "W3qoTRWKzxKD"
      }
    },
    {
      "cell_type": "markdown",
      "source": [
        "⚙️ [2] Install Dependencies & Set Language + Credit Selection"
      ],
      "metadata": {
        "id": "vlpXhtKnuR33"
      }
    },
    {
      "cell_type": "code",
      "source": [
        "# Install compatible versions for static image rendering in Colab\n",
        "!pip install -q python-dotenv pandas plotly\n",
        "\n",
        "# Clone the repo if running in Colab (optional — if data not uploaded manually)\n",
        "import os\n",
        "\n",
        "if not os.path.exists('LLLE-R1900s'):\n",
        "    !git clone https://github.com/componavt/LLLE-R1900s.git\n",
        "    %cd LLLE-R1900s\n",
        "else:\n",
        "    %cd LLLE-R1900s\n",
        "\n",
        "# === LANGUAGE SWITCH ===\n",
        "USE_LANGUAGE = \"ru\"\n",
        "assert USE_LANGUAGE in (\"ru\", \"en\"), \"USE_LANGUAGE must be 'ru' or 'en'\"\n",
        "\n",
        "# === SELECT CREDIT TYPES TO VISUALIZE ===\n",
        "# Must use values from the 'Name' column in credit_items.csv\n",
        "SELECTED_CREDIT_ITEMS = [\"Migration\", \"CraftMaterials\", \"CraftTools\"]"
      ],
      "metadata": {
        "id": "WZuTtoCLz6KK",
        "outputId": "8c065f47-c27f-48ad-b10d-d5808c5646e3",
        "colab": {
          "base_uri": "https://localhost:8080/"
        }
      },
      "execution_count": 2,
      "outputs": [
        {
          "output_type": "stream",
          "name": "stdout",
          "text": [
            "Cloning into 'LLLE-R1900s'...\n",
            "remote: Enumerating objects: 552, done.\u001b[K\n",
            "remote: Counting objects: 100% (552/552), done.\u001b[K\n",
            "remote: Compressing objects: 100% (250/250), done.\u001b[K\n",
            "remote: Total 552 (delta 412), reused 401 (delta 296), pack-reused 0 (from 0)\u001b[K\n",
            "Receiving objects: 100% (552/552), 1.40 MiB | 5.78 MiB/s, done.\n",
            "Resolving deltas: 100% (412/412), done.\n",
            "/content/LLLE-R1900s/LLLE-R1900s\n"
          ]
        }
      ]
    },
    {
      "cell_type": "markdown",
      "source": [
        "📥 [3] Load & Prepare Data"
      ],
      "metadata": {
        "id": "sEy1woACnSYi"
      }
    },
    {
      "cell_type": "code",
      "source": [
        "import os\n",
        "import pandas as pd\n",
        "from dotenv import load_dotenv\n",
        "\n",
        "# Validate SELECTED_CREDIT_ITEMS early (now that pandas is available)\n",
        "valid_names = set(pd.read_csv('data/credit_items.csv')['Name'])\n",
        "invalid = set(SELECTED_CREDIT_ITEMS) - valid_names\n",
        "if invalid:\n",
        "    raise ValueError(f\"Invalid credit item(s): {invalid}. Must be from 'Name' column in credit_items.csv.\")\n",
        "\n",
        "# Load configuration\n",
        "load_dotenv('config.env')\n",
        "\n",
        "# Paths\n",
        "csv_out_dir = os.getenv('CSV_OUT_DIR', 'data/csv_out')\n",
        "output_file_name = os.getenv('OUTPUT_CSV_FILE')\n",
        "\n",
        "if not output_file_name:\n",
        "    csv_files = [f for f in os.listdir(csv_out_dir) if f.endswith('.csv')]\n",
        "    if not csv_files:\n",
        "        raise FileNotFoundError(\"No CSV files found in the output directory.\")\n",
        "    output_file_name = csv_files[0]\n",
        "\n",
        "csv_path = os.path.join(csv_out_dir, output_file_name)\n",
        "print(f\"Loading loan data from: {csv_path}\")\n",
        "\n",
        "# Load main loan data\n",
        "df_loans = pd.read_csv(csv_path)\n",
        "print(f\"Loaded {len(df_loans)} loan records.\")\n",
        "\n",
        "# Load credit items\n",
        "df_credit = pd.read_csv('data/credit_items.csv')\n",
        "print(f\"Loaded {len(df_credit)} credit item definitions.\")\n",
        "\n",
        "# --- Build credit item display label map ---\n",
        "if USE_LANGUAGE == \"ru\":\n",
        "    df_credit['display_label'] = df_credit['loan_short_ru']\n",
        "else:\n",
        "    df_credit['display_label'] = df_credit['Name']\n",
        "\n",
        "label_map = dict(zip(df_credit['Name'], df_credit['display_label']))\n",
        "\n",
        "# Filter loans to only selected credit items\n",
        "df_loans = df_loans[df_loans['credit_item'].isin(SELECTED_CREDIT_ITEMS)].copy()\n",
        "\n",
        "# Ensure numeric types\n",
        "df_loans['amount_rubles'] = pd.to_numeric(df_loans['amount_rubles'], errors='coerce').fillna(0)\n",
        "df_loans['loan_count'] = pd.to_numeric(df_loans['loan_count'], errors='coerce').fillna(0).astype(int)\n",
        "\n",
        "print(f\"Filtered to {len(df_loans)} records for selected credit types: {SELECTED_CREDIT_ITEMS}\")"
      ],
      "metadata": {
        "colab": {
          "base_uri": "https://localhost:8080/"
        },
        "id": "ZbU28lXhz_3q",
        "outputId": "e6550677-edea-43a2-c072-91658611befa"
      },
      "execution_count": 4,
      "outputs": [
        {
          "output_type": "stream",
          "name": "stdout",
          "text": [
            "Loading loan data from: data/csv_out/loans_s28_i21.csv\n",
            "Loaded 1768 loan records.\n",
            "Loaded 21 credit item definitions.\n",
            "Filtered to 264 records for selected credit types: ['Migration', 'CraftMaterials', 'CraftTools']\n"
          ]
        }
      ]
    },
    {
      "cell_type": "markdown",
      "source": [
        "🔍 [4] Calculate Axis Extents and Prepare Annotations"
      ],
      "metadata": {
        "id": "2BGl43cUHF1s"
      }
    },
    {
      "cell_type": "code",
      "source": [
        "# Aggregate by year and credit_item\n",
        "df_annual = df_loans.groupby(['year', 'credit_item']).agg(\n",
        "    total_amount=('amount_rubles', 'sum'),\n",
        "    total_count=('loan_count', 'sum')\n",
        ").reset_index()\n",
        "\n",
        "df_annual['total_amount_k'] = df_annual['total_amount'] / 1000.0\n",
        "\n",
        "years = sorted(df_annual['year'].unique())\n",
        "credit_items = SELECTED_CREDIT_ITEMS\n",
        "\n",
        "max_amount = df_annual['total_amount_k'].max() if not df_annual.empty else 1\n",
        "max_count = df_annual['total_count'].max() if not df_annual.empty else 1\n",
        "\n",
        "print(f\"📈 Max loan amount (thsd rub): {max_amount:.2f}\")\n",
        "print(f\"📊 Max loan count: {max_count}\")\n",
        "\n",
        "# --- Normalize both series to [-1, 1] range for visual balance ---\n",
        "# We'll map [0, max_amount] → [0, 1] and [0, max_count] → [0, -1]\n",
        "amount_norm = {}\n",
        "count_norm = {}\n",
        "amount_annotations = {}\n",
        "count_annotations = {}\n",
        "\n",
        "CREDIT_SYMBOLS = {\n",
        "    \"Migration\": \"🚶\",\n",
        "    \"CraftMaterials\": \"🧵\",\n",
        "    \"CraftTools\": \"🔨\"\n",
        "}\n",
        "\n",
        "for item in credit_items:\n",
        "    subset = df_annual[df_annual['credit_item'] == item]\n",
        "    amount_dict = dict(zip(subset['year'], subset['total_amount_k']))\n",
        "    count_dict = dict(zip(subset['year'], subset['total_count']))\n",
        "\n",
        "    raw_amounts = [amount_dict.get(y, 0) for y in years]\n",
        "    raw_counts = [count_dict.get(y, 0) for y in years]\n",
        "\n",
        "    # Normalize\n",
        "    norm_amounts = [a / max_amount if max_amount > 0 else 0 for a in raw_amounts]\n",
        "    norm_counts = [-c / max_count if max_count > 0 else 0 for c in raw_counts]  # negative direction\n",
        "\n",
        "    amount_norm[item] = norm_amounts\n",
        "    count_norm[item] = norm_counts\n",
        "\n",
        "    # Annotations show REAL values (not normalized)\n",
        "    amount_annotations[item] = [f\"{a:.1f}\" if a > 0 else \"\" for a in raw_amounts]\n",
        "    count_annotations[item] = [\n",
        "        f\"{CREDIT_SYMBOLS.get(item, '')}\\n{int(c)}\" if c > 0 else \"\"\n",
        "        for c in raw_counts\n",
        "    ]\n",
        "\n",
        "# Store for cell 5\n",
        "PLOT_DATA = {\n",
        "    'years': years,\n",
        "    'credit_items': credit_items,\n",
        "    'amount_norm': amount_norm,\n",
        "    'count_norm': count_norm,\n",
        "    'amount_annotations': amount_annotations,\n",
        "    'count_annotations': count_annotations,\n",
        "    'max_amount': max_amount,\n",
        "    'max_count': max_count\n",
        "}"
      ],
      "metadata": {
        "id": "U7_BPiWfHGvk",
        "outputId": "d6212eed-b78d-429e-9aa7-215534f91883",
        "colab": {
          "base_uri": "https://localhost:8080/"
        }
      },
      "execution_count": 12,
      "outputs": [
        {
          "output_type": "stream",
          "name": "stdout",
          "text": [
            "📈 Max loan amount (thsd rub): 9.56\n",
            "📊 Max loan count: 249\n"
          ]
        }
      ]
    },
    {
      "cell_type": "markdown",
      "source": [
        "📊 [5] Grouped Bar Chart: Annual Amount (↑) and Count (↓) by Credit Type\n",
        "(Balanced Visual Scales and Custom Y-axis Labels)"
      ],
      "metadata": {
        "id": "JNSUYJ9rmAks"
      }
    },
    {
      "cell_type": "code",
      "source": [
        "import plotly\n",
        "import plotly.graph_objects as go\n",
        "\n",
        "years = PLOT_DATA['years']\n",
        "credit_items = PLOT_DATA['credit_items']\n",
        "amount_norm = PLOT_DATA['amount_norm']\n",
        "count_norm = PLOT_DATA['count_norm']\n",
        "amount_annotations = PLOT_DATA['amount_annotations']\n",
        "count_annotations = PLOT_DATA['count_annotations']\n",
        "max_amount = PLOT_DATA['max_amount']\n",
        "max_count = PLOT_DATA['max_count']\n",
        "\n",
        "fig = go.Figure()\n",
        "\n",
        "colors = plotly.colors.qualitative.Plotly\n",
        "\n",
        "# Add traces (using normalized Y values)\n",
        "for i, item in enumerate(credit_items):\n",
        "    color = colors[i % len(colors)]\n",
        "    label = label_map[item]\n",
        "\n",
        "    # Amount (normalized upward)\n",
        "    fig.add_trace(go.Bar(\n",
        "        x=years,\n",
        "        y=amount_norm[item],\n",
        "        name=label,\n",
        "        marker_color=color,\n",
        "        offsetgroup=i,\n",
        "        legendgroup=item,\n",
        "        text=amount_annotations[item],\n",
        "        textposition='outside',\n",
        "        textfont=dict(size=10),\n",
        "        hovertemplate=(\n",
        "            (f\"<b>{label}</b><br>Year: %{{x}}<br>Amount: %{{text}}k rub\" if USE_LANGUAGE == \"en\"\n",
        "             else f\"<b>{label}</b><br>Год: %{{x}}<br>Сумма: %{{text}} тыс. руб.\")\n",
        "            + \"<extra></extra>\"\n",
        "        )\n",
        "    ))\n",
        "\n",
        "    # Count (normalized downward)\n",
        "    fig.add_trace(go.Bar(\n",
        "        x=years,\n",
        "        y=count_norm[item],\n",
        "        name=label,\n",
        "        marker_color=color,\n",
        "        opacity=0.75,\n",
        "        offsetgroup=i,\n",
        "        legendgroup=item,\n",
        "        showlegend=False,\n",
        "        text=count_annotations[item],\n",
        "        textposition='outside',\n",
        "        textfont=dict(size=10),\n",
        "        hovertemplate=(\n",
        "            (f\"<b>{label}</b><br>Year: %{{x}}<br>Loans: %{{text.split()[-1]}}\" if USE_LANGUAGE == \"en\"\n",
        "             else f\"<b>{label}</b><br>Год: %{{x}}<br>Ссуд: %{{text.split()[-1]}}\")\n",
        "            + \"<extra></extra>\"\n",
        "        )\n",
        "    ))\n",
        "\n",
        "# --- Custom Y-axis tick labels ---\n",
        "# We want to show real values, not normalized ones\n",
        "# Define ticks for top (amount) and bottom (count)\n",
        "\n",
        "# For the top half: 0 to max_amount → map to 0 to 1\n",
        "n_ticks_top = 5\n",
        "tickvals_top = [i / (n_ticks_top - 1) for i in range(n_ticks_top)]  # [0, 0.25, 0.5, 0.75, 1]\n",
        "ticktext_top = [f\"{(i / (n_ticks_top - 1)) * max_amount:.1f}\" for i in range(n_ticks_top)]\n",
        "\n",
        "# For the bottom half: 0 to max_count → map to 0 to -1\n",
        "n_ticks_bottom = 5\n",
        "tickvals_bottom = [-i / (n_ticks_bottom - 1) for i in range(n_ticks_bottom)]  # [0, -0.25, ..., -1]\n",
        "ticktext_bottom = [f\"{int((i / (n_ticks_bottom - 1)) * max_count)}\" for i in range(n_ticks_bottom)]\n",
        "\n",
        "# Combine, but avoid duplicate 0\n",
        "tickvals = tickvals_bottom[::-1][:-1] + tickvals_top  # [..., -0.5, -0.25, 0, 0.25, 0.5, ...]\n",
        "ticktext = ticktext_bottom[::-1][:-1] + ticktext_top\n",
        "\n",
        "# Update layout\n",
        "if USE_LANGUAGE == \"en\":\n",
        "    yaxis_title = \"Amount (thsd rub) ↑ / Number of Loans ↓\"\n",
        "else:\n",
        "    yaxis_title = \"Сумма (тыс. руб.) ↑ / Число ссуд ↓\"\n",
        "\n",
        "fig.update_layout(\n",
        "    title=\"Annual Loan Volume by Credit Type\" if USE_LANGUAGE == \"en\" else \"Годовой объём ссуд по категориям\",\n",
        "    barmode='group',\n",
        "    xaxis=dict(\n",
        "        title=\"Year\" if USE_LANGUAGE == \"en\" else \"Год\",\n",
        "        tickmode='linear'\n",
        "    ),\n",
        "    yaxis=dict(\n",
        "        title=yaxis_title,\n",
        "        tickmode='array',\n",
        "        tickvals=tickvals,\n",
        "        ticktext=ticktext,\n",
        "        range=[-1.1, 1.1],  # normalized range\n",
        "        zeroline=True,\n",
        "        zerolinewidth=2,\n",
        "        zerolinecolor='black'\n",
        "    ),\n",
        "    legend_title=\"Credit Type\" if USE_LANGUAGE == \"en\" else \"Категория кредита\",\n",
        "    height=650,\n",
        "    font=dict(size=12)\n",
        ")\n",
        "\n",
        "fig.show(renderer=\"colab\")\n",
        "\n",
        "print(f\"\\n✅ Displayed balanced grouped bar chart for {len(credit_items)} credit types.\")"
      ],
      "metadata": {
        "id": "pEsF6d4DmBow",
        "outputId": "cdb7b9ff-0211-4c48-e2d1-f99b82e1df64",
        "colab": {
          "base_uri": "https://localhost:8080/",
          "height": 702
        }
      },
      "execution_count": 13,
      "outputs": [
        {
          "output_type": "display_data",
          "data": {
            "text/html": [
              "<html>\n",
              "<head><meta charset=\"utf-8\" /></head>\n",
              "<body>\n",
              "    <div>            <script src=\"https://cdnjs.cloudflare.com/ajax/libs/mathjax/2.7.5/MathJax.js?config=TeX-AMS-MML_SVG\"></script><script type=\"text/javascript\">if (window.MathJax && window.MathJax.Hub && window.MathJax.Hub.Config) {window.MathJax.Hub.Config({SVG: {font: \"STIX-Web\"}});}</script>                <script type=\"text/javascript\">window.PlotlyConfig = {MathJaxConfig: 'local'};</script>\n",
              "        <script charset=\"utf-8\" src=\"https://cdn.plot.ly/plotly-2.35.2.min.js\"></script>                <div id=\"0f85ea9d-a586-4c03-8246-6891eb29508c\" class=\"plotly-graph-div\" style=\"height:650px; width:100%;\"></div>            <script type=\"text/javascript\">                                    window.PLOTLYENV=window.PLOTLYENV || {};                                    if (document.getElementById(\"0f85ea9d-a586-4c03-8246-6891eb29508c\")) {                    Plotly.newPlot(                        \"0f85ea9d-a586-4c03-8246-6891eb29508c\",                        [{\"hovertemplate\":\"\\u003cb\\u003eВрем. заработок\\u003c\\u002fb\\u003e\\u003cbr\\u003eГод: %{x}\\u003cbr\\u003eСумма: %{text} тыс. руб.\\u003cextra\\u003e\\u003c\\u002fextra\\u003e\",\"legendgroup\":\"Migration\",\"marker\":{\"color\":\"#636EFA\"},\"name\":\"Врем. заработок\",\"offsetgroup\":\"0\",\"text\":[\"\",\"0.8\",\"0.1\",\"0.2\",\"6.9\",\"4.5\",\"1.4\"],\"textfont\":{\"size\":10},\"textposition\":\"outside\",\"x\":[1911,1912,1913,1914,1915,1916,1917],\"y\":[0.0,0.08029273392577105,0.012023000522739155,0.023523261892315735,0.7168844746471511,0.46952430737062206,0.14385781495033978],\"type\":\"bar\"},{\"hovertemplate\":\"\\u003cb\\u003eВрем. заработок\\u003c\\u002fb\\u003e\\u003cbr\\u003eГод: %{x}\\u003cbr\\u003eСсуд: %{text.split()[-1]}\\u003cextra\\u003e\\u003c\\u002fextra\\u003e\",\"legendgroup\":\"Migration\",\"marker\":{\"color\":\"#636EFA\"},\"name\":\"Врем. заработок\",\"offsetgroup\":\"0\",\"opacity\":0.75,\"showlegend\":false,\"text\":[\"\",\"🚶\\n53\",\"🚶\\n9\",\"🚶\\n12\",\"🚶\\n196\",\"🚶\\n115\",\"🚶\\n52\"],\"textfont\":{\"size\":10},\"textposition\":\"outside\",\"x\":[1911,1912,1913,1914,1915,1916,1917],\"y\":[0.0,-0.21285140562248997,-0.03614457831325301,-0.04819277108433735,-0.7871485943775101,-0.46184738955823296,-0.20883534136546184],\"type\":\"bar\"},{\"hovertemplate\":\"\\u003cb\\u003eРемесл. матер.\\u003c\\u002fb\\u003e\\u003cbr\\u003eГод: %{x}\\u003cbr\\u003eСумма: %{text} тыс. руб.\\u003cextra\\u003e\\u003c\\u002fextra\\u003e\",\"legendgroup\":\"CraftMaterials\",\"marker\":{\"color\":\"#EF553B\"},\"name\":\"Ремесл. матер.\",\"offsetgroup\":\"1\",\"text\":[\"\",\"0.1\",\"0.2\",\"0.3\",\"4.8\",\"9.6\",\"5.4\"],\"textfont\":{\"size\":10},\"textposition\":\"outside\",\"x\":[1911,1912,1913,1914,1915,1916,1917],\"y\":[0.0,0.012545739675901725,0.019864087820177734,0.03387349712493466,0.5010977522216414,1.0,0.5614218504966022],\"type\":\"bar\"},{\"hovertemplate\":\"\\u003cb\\u003eРемесл. матер.\\u003c\\u002fb\\u003e\\u003cbr\\u003eГод: %{x}\\u003cbr\\u003eСсуд: %{text.split()[-1]}\\u003cextra\\u003e\\u003c\\u002fextra\\u003e\",\"legendgroup\":\"CraftMaterials\",\"marker\":{\"color\":\"#EF553B\"},\"name\":\"Ремесл. матер.\",\"offsetgroup\":\"1\",\"opacity\":0.75,\"showlegend\":false,\"text\":[\"\",\"🧵\\n4\",\"🧵\\n5\",\"🧵\\n15\",\"🧵\\n96\",\"🧵\\n249\",\"🧵\\n114\"],\"textfont\":{\"size\":10},\"textposition\":\"outside\",\"x\":[1911,1912,1913,1914,1915,1916,1917],\"y\":[0.0,-0.01606425702811245,-0.020080321285140562,-0.060240963855421686,-0.3855421686746988,-1.0,-0.4578313253012048],\"type\":\"bar\"},{\"hovertemplate\":\"\\u003cb\\u003eРемесл. инстр.\\u003c\\u002fb\\u003e\\u003cbr\\u003eГод: %{x}\\u003cbr\\u003eСумма: %{text} тыс. руб.\\u003cextra\\u003e\\u003c\\u002fextra\\u003e\",\"legendgroup\":\"CraftTools\",\"marker\":{\"color\":\"#00CC96\"},\"name\":\"Ремесл. инстр.\",\"offsetgroup\":\"2\",\"text\":[\"0.5\",\"1.8\",\"0.2\",\"0.3\",\"1.1\",\"2.8\",\"1.7\"],\"textfont\":{\"size\":10},\"textposition\":\"outside\",\"x\":[1911,1912,1913,1914,1915,1916,1917],\"y\":[0.05624673288029274,0.185363303711448,0.02090956612650288,0.03178254051228437,0.11657083115525353,0.28949294302143236,0.1766858337689493],\"type\":\"bar\"},{\"hovertemplate\":\"\\u003cb\\u003eРемесл. инстр.\\u003c\\u002fb\\u003e\\u003cbr\\u003eГод: %{x}\\u003cbr\\u003eСсуд: %{text.split()[-1]}\\u003cextra\\u003e\\u003c\\u002fextra\\u003e\",\"legendgroup\":\"CraftTools\",\"marker\":{\"color\":\"#00CC96\"},\"name\":\"Ремесл. инстр.\",\"offsetgroup\":\"2\",\"opacity\":0.75,\"showlegend\":false,\"text\":[\"🔨\\n9\",\"🔨\\n45\",\"🔨\\n8\",\"🔨\\n14\",\"🔨\\n35\",\"🔨\\n89\",\"🔨\\n45\"],\"textfont\":{\"size\":10},\"textposition\":\"outside\",\"x\":[1911,1912,1913,1914,1915,1916,1917],\"y\":[-0.03614457831325301,-0.18072289156626506,-0.0321285140562249,-0.05622489959839357,-0.14056224899598393,-0.357429718875502,-0.18072289156626506],\"type\":\"bar\"}],                        {\"template\":{\"data\":{\"histogram2dcontour\":[{\"type\":\"histogram2dcontour\",\"colorbar\":{\"outlinewidth\":0,\"ticks\":\"\"},\"colorscale\":[[0.0,\"#0d0887\"],[0.1111111111111111,\"#46039f\"],[0.2222222222222222,\"#7201a8\"],[0.3333333333333333,\"#9c179e\"],[0.4444444444444444,\"#bd3786\"],[0.5555555555555556,\"#d8576b\"],[0.6666666666666666,\"#ed7953\"],[0.7777777777777778,\"#fb9f3a\"],[0.8888888888888888,\"#fdca26\"],[1.0,\"#f0f921\"]]}],\"choropleth\":[{\"type\":\"choropleth\",\"colorbar\":{\"outlinewidth\":0,\"ticks\":\"\"}}],\"histogram2d\":[{\"type\":\"histogram2d\",\"colorbar\":{\"outlinewidth\":0,\"ticks\":\"\"},\"colorscale\":[[0.0,\"#0d0887\"],[0.1111111111111111,\"#46039f\"],[0.2222222222222222,\"#7201a8\"],[0.3333333333333333,\"#9c179e\"],[0.4444444444444444,\"#bd3786\"],[0.5555555555555556,\"#d8576b\"],[0.6666666666666666,\"#ed7953\"],[0.7777777777777778,\"#fb9f3a\"],[0.8888888888888888,\"#fdca26\"],[1.0,\"#f0f921\"]]}],\"heatmap\":[{\"type\":\"heatmap\",\"colorbar\":{\"outlinewidth\":0,\"ticks\":\"\"},\"colorscale\":[[0.0,\"#0d0887\"],[0.1111111111111111,\"#46039f\"],[0.2222222222222222,\"#7201a8\"],[0.3333333333333333,\"#9c179e\"],[0.4444444444444444,\"#bd3786\"],[0.5555555555555556,\"#d8576b\"],[0.6666666666666666,\"#ed7953\"],[0.7777777777777778,\"#fb9f3a\"],[0.8888888888888888,\"#fdca26\"],[1.0,\"#f0f921\"]]}],\"heatmapgl\":[{\"type\":\"heatmapgl\",\"colorbar\":{\"outlinewidth\":0,\"ticks\":\"\"},\"colorscale\":[[0.0,\"#0d0887\"],[0.1111111111111111,\"#46039f\"],[0.2222222222222222,\"#7201a8\"],[0.3333333333333333,\"#9c179e\"],[0.4444444444444444,\"#bd3786\"],[0.5555555555555556,\"#d8576b\"],[0.6666666666666666,\"#ed7953\"],[0.7777777777777778,\"#fb9f3a\"],[0.8888888888888888,\"#fdca26\"],[1.0,\"#f0f921\"]]}],\"contourcarpet\":[{\"type\":\"contourcarpet\",\"colorbar\":{\"outlinewidth\":0,\"ticks\":\"\"}}],\"contour\":[{\"type\":\"contour\",\"colorbar\":{\"outlinewidth\":0,\"ticks\":\"\"},\"colorscale\":[[0.0,\"#0d0887\"],[0.1111111111111111,\"#46039f\"],[0.2222222222222222,\"#7201a8\"],[0.3333333333333333,\"#9c179e\"],[0.4444444444444444,\"#bd3786\"],[0.5555555555555556,\"#d8576b\"],[0.6666666666666666,\"#ed7953\"],[0.7777777777777778,\"#fb9f3a\"],[0.8888888888888888,\"#fdca26\"],[1.0,\"#f0f921\"]]}],\"surface\":[{\"type\":\"surface\",\"colorbar\":{\"outlinewidth\":0,\"ticks\":\"\"},\"colorscale\":[[0.0,\"#0d0887\"],[0.1111111111111111,\"#46039f\"],[0.2222222222222222,\"#7201a8\"],[0.3333333333333333,\"#9c179e\"],[0.4444444444444444,\"#bd3786\"],[0.5555555555555556,\"#d8576b\"],[0.6666666666666666,\"#ed7953\"],[0.7777777777777778,\"#fb9f3a\"],[0.8888888888888888,\"#fdca26\"],[1.0,\"#f0f921\"]]}],\"mesh3d\":[{\"type\":\"mesh3d\",\"colorbar\":{\"outlinewidth\":0,\"ticks\":\"\"}}],\"scatter\":[{\"fillpattern\":{\"fillmode\":\"overlay\",\"size\":10,\"solidity\":0.2},\"type\":\"scatter\"}],\"parcoords\":[{\"type\":\"parcoords\",\"line\":{\"colorbar\":{\"outlinewidth\":0,\"ticks\":\"\"}}}],\"scatterpolargl\":[{\"type\":\"scatterpolargl\",\"marker\":{\"colorbar\":{\"outlinewidth\":0,\"ticks\":\"\"}}}],\"bar\":[{\"error_x\":{\"color\":\"#2a3f5f\"},\"error_y\":{\"color\":\"#2a3f5f\"},\"marker\":{\"line\":{\"color\":\"#E5ECF6\",\"width\":0.5},\"pattern\":{\"fillmode\":\"overlay\",\"size\":10,\"solidity\":0.2}},\"type\":\"bar\"}],\"scattergeo\":[{\"type\":\"scattergeo\",\"marker\":{\"colorbar\":{\"outlinewidth\":0,\"ticks\":\"\"}}}],\"scatterpolar\":[{\"type\":\"scatterpolar\",\"marker\":{\"colorbar\":{\"outlinewidth\":0,\"ticks\":\"\"}}}],\"histogram\":[{\"marker\":{\"pattern\":{\"fillmode\":\"overlay\",\"size\":10,\"solidity\":0.2}},\"type\":\"histogram\"}],\"scattergl\":[{\"type\":\"scattergl\",\"marker\":{\"colorbar\":{\"outlinewidth\":0,\"ticks\":\"\"}}}],\"scatter3d\":[{\"type\":\"scatter3d\",\"line\":{\"colorbar\":{\"outlinewidth\":0,\"ticks\":\"\"}},\"marker\":{\"colorbar\":{\"outlinewidth\":0,\"ticks\":\"\"}}}],\"scattermapbox\":[{\"type\":\"scattermapbox\",\"marker\":{\"colorbar\":{\"outlinewidth\":0,\"ticks\":\"\"}}}],\"scatterternary\":[{\"type\":\"scatterternary\",\"marker\":{\"colorbar\":{\"outlinewidth\":0,\"ticks\":\"\"}}}],\"scattercarpet\":[{\"type\":\"scattercarpet\",\"marker\":{\"colorbar\":{\"outlinewidth\":0,\"ticks\":\"\"}}}],\"carpet\":[{\"aaxis\":{\"endlinecolor\":\"#2a3f5f\",\"gridcolor\":\"white\",\"linecolor\":\"white\",\"minorgridcolor\":\"white\",\"startlinecolor\":\"#2a3f5f\"},\"baxis\":{\"endlinecolor\":\"#2a3f5f\",\"gridcolor\":\"white\",\"linecolor\":\"white\",\"minorgridcolor\":\"white\",\"startlinecolor\":\"#2a3f5f\"},\"type\":\"carpet\"}],\"table\":[{\"cells\":{\"fill\":{\"color\":\"#EBF0F8\"},\"line\":{\"color\":\"white\"}},\"header\":{\"fill\":{\"color\":\"#C8D4E3\"},\"line\":{\"color\":\"white\"}},\"type\":\"table\"}],\"barpolar\":[{\"marker\":{\"line\":{\"color\":\"#E5ECF6\",\"width\":0.5},\"pattern\":{\"fillmode\":\"overlay\",\"size\":10,\"solidity\":0.2}},\"type\":\"barpolar\"}],\"pie\":[{\"automargin\":true,\"type\":\"pie\"}]},\"layout\":{\"autotypenumbers\":\"strict\",\"colorway\":[\"#636efa\",\"#EF553B\",\"#00cc96\",\"#ab63fa\",\"#FFA15A\",\"#19d3f3\",\"#FF6692\",\"#B6E880\",\"#FF97FF\",\"#FECB52\"],\"font\":{\"color\":\"#2a3f5f\"},\"hovermode\":\"closest\",\"hoverlabel\":{\"align\":\"left\"},\"paper_bgcolor\":\"white\",\"plot_bgcolor\":\"#E5ECF6\",\"polar\":{\"bgcolor\":\"#E5ECF6\",\"angularaxis\":{\"gridcolor\":\"white\",\"linecolor\":\"white\",\"ticks\":\"\"},\"radialaxis\":{\"gridcolor\":\"white\",\"linecolor\":\"white\",\"ticks\":\"\"}},\"ternary\":{\"bgcolor\":\"#E5ECF6\",\"aaxis\":{\"gridcolor\":\"white\",\"linecolor\":\"white\",\"ticks\":\"\"},\"baxis\":{\"gridcolor\":\"white\",\"linecolor\":\"white\",\"ticks\":\"\"},\"caxis\":{\"gridcolor\":\"white\",\"linecolor\":\"white\",\"ticks\":\"\"}},\"coloraxis\":{\"colorbar\":{\"outlinewidth\":0,\"ticks\":\"\"}},\"colorscale\":{\"sequential\":[[0.0,\"#0d0887\"],[0.1111111111111111,\"#46039f\"],[0.2222222222222222,\"#7201a8\"],[0.3333333333333333,\"#9c179e\"],[0.4444444444444444,\"#bd3786\"],[0.5555555555555556,\"#d8576b\"],[0.6666666666666666,\"#ed7953\"],[0.7777777777777778,\"#fb9f3a\"],[0.8888888888888888,\"#fdca26\"],[1.0,\"#f0f921\"]],\"sequentialminus\":[[0.0,\"#0d0887\"],[0.1111111111111111,\"#46039f\"],[0.2222222222222222,\"#7201a8\"],[0.3333333333333333,\"#9c179e\"],[0.4444444444444444,\"#bd3786\"],[0.5555555555555556,\"#d8576b\"],[0.6666666666666666,\"#ed7953\"],[0.7777777777777778,\"#fb9f3a\"],[0.8888888888888888,\"#fdca26\"],[1.0,\"#f0f921\"]],\"diverging\":[[0,\"#8e0152\"],[0.1,\"#c51b7d\"],[0.2,\"#de77ae\"],[0.3,\"#f1b6da\"],[0.4,\"#fde0ef\"],[0.5,\"#f7f7f7\"],[0.6,\"#e6f5d0\"],[0.7,\"#b8e186\"],[0.8,\"#7fbc41\"],[0.9,\"#4d9221\"],[1,\"#276419\"]]},\"xaxis\":{\"gridcolor\":\"white\",\"linecolor\":\"white\",\"ticks\":\"\",\"title\":{\"standoff\":15},\"zerolinecolor\":\"white\",\"automargin\":true,\"zerolinewidth\":2},\"yaxis\":{\"gridcolor\":\"white\",\"linecolor\":\"white\",\"ticks\":\"\",\"title\":{\"standoff\":15},\"zerolinecolor\":\"white\",\"automargin\":true,\"zerolinewidth\":2},\"scene\":{\"xaxis\":{\"backgroundcolor\":\"#E5ECF6\",\"gridcolor\":\"white\",\"linecolor\":\"white\",\"showbackground\":true,\"ticks\":\"\",\"zerolinecolor\":\"white\",\"gridwidth\":2},\"yaxis\":{\"backgroundcolor\":\"#E5ECF6\",\"gridcolor\":\"white\",\"linecolor\":\"white\",\"showbackground\":true,\"ticks\":\"\",\"zerolinecolor\":\"white\",\"gridwidth\":2},\"zaxis\":{\"backgroundcolor\":\"#E5ECF6\",\"gridcolor\":\"white\",\"linecolor\":\"white\",\"showbackground\":true,\"ticks\":\"\",\"zerolinecolor\":\"white\",\"gridwidth\":2}},\"shapedefaults\":{\"line\":{\"color\":\"#2a3f5f\"}},\"annotationdefaults\":{\"arrowcolor\":\"#2a3f5f\",\"arrowhead\":0,\"arrowwidth\":1},\"geo\":{\"bgcolor\":\"white\",\"landcolor\":\"#E5ECF6\",\"subunitcolor\":\"white\",\"showland\":true,\"showlakes\":true,\"lakecolor\":\"white\"},\"title\":{\"x\":0.05},\"mapbox\":{\"style\":\"light\"}}},\"xaxis\":{\"title\":{\"text\":\"Год\"},\"tickmode\":\"linear\"},\"yaxis\":{\"title\":{\"text\":\"Сумма (тыс. руб.) ↑ \\u002f Число ссуд ↓\"},\"tickmode\":\"array\",\"tickvals\":[-1.0,-0.75,-0.5,-0.25,0.0,0.25,0.5,0.75,1.0],\"ticktext\":[\"249\",\"186\",\"124\",\"62\",\"0.0\",\"2.4\",\"4.8\",\"7.2\",\"9.6\"],\"range\":[-1.1,1.1],\"zeroline\":true,\"zerolinewidth\":2,\"zerolinecolor\":\"black\"},\"font\":{\"size\":12},\"title\":{\"text\":\"Годовой объём ссуд по категориям\"},\"barmode\":\"group\",\"legend\":{\"title\":{\"text\":\"Категория кредита\"}},\"height\":650},                        {\"responsive\": true}                    ).then(function(){\n",
              "                            \n",
              "var gd = document.getElementById('0f85ea9d-a586-4c03-8246-6891eb29508c');\n",
              "var x = new MutationObserver(function (mutations, observer) {{\n",
              "        var display = window.getComputedStyle(gd).display;\n",
              "        if (!display || display === 'none') {{\n",
              "            console.log([gd, 'removed!']);\n",
              "            Plotly.purge(gd);\n",
              "            observer.disconnect();\n",
              "        }}\n",
              "}});\n",
              "\n",
              "// Listen for the removal of the full notebook cells\n",
              "var notebookContainer = gd.closest('#notebook-container');\n",
              "if (notebookContainer) {{\n",
              "    x.observe(notebookContainer, {childList: true});\n",
              "}}\n",
              "\n",
              "// Listen for the clearing of the current output cell\n",
              "var outputEl = gd.closest('.output');\n",
              "if (outputEl) {{\n",
              "    x.observe(outputEl, {childList: true});\n",
              "}}\n",
              "\n",
              "                        })                };                            </script>        </div>\n",
              "</body>\n",
              "</html>"
            ]
          },
          "metadata": {}
        },
        {
          "output_type": "stream",
          "name": "stdout",
          "text": [
            "\n",
            "✅ Displayed balanced grouped bar chart for 3 credit types.\n"
          ]
        }
      ]
    },
    {
      "cell_type": "markdown",
      "source": [
        "🌟 [4] Individual Settlement Charts\n",
        "\n",
        "📓 Ячейка 4: Отдельные диаграмма по всем поселениям (ещё карту бы...)"
      ],
      "metadata": {
        "id": "jgVf2Ig0ncIJ"
      }
    }
  ]
}