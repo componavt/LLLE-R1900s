{
  "nbformat": 4,
  "nbformat_minor": 0,
  "metadata": {
    "colab": {
      "provenance": [],
      "authorship_tag": "ABX9TyO4QtF2IOvnfnnu/gmg8hlF",
      "include_colab_link": true
    },
    "kernelspec": {
      "name": "python3",
      "display_name": "Python 3"
    },
    "language_info": {
      "name": "python"
    }
  },
  "cells": [
    {
      "cell_type": "markdown",
      "metadata": {
        "id": "view-in-github",
        "colab_type": "text"
      },
      "source": [
        "<a href=\"https://colab.research.google.com/github/componavt/LLLE-R1900s/blob/main/src/visualization/grouped_bar_chart.ipynb\" target=\"_parent\"><img src=\"https://colab.research.google.com/assets/colab-badge.svg\" alt=\"Open In Colab\"/></a>"
      ]
    },
    {
      "cell_type": "markdown",
      "source": [
        "# 📊 Grouped Bar Chart: Annual Loan Volumes & Counts by Credit Type\n",
        "\n",
        "Visualizes **annual dynamics** of selected credit categories across all settlements.\n",
        "\n",
        "**Top bars (↑)** = total loan amount (in **thousands of rubles**)  \n",
        "**Bottom bars (↓)** = total number of loans  \n",
        "\n",
        "Each selected credit type is shown with:\n",
        "- **Unique color**\n",
        "- **Consistent style** for both amount and count (same color for ↑ and ↓)\n",
        "\n",
        "✨ **Features:**\n",
        "- 🌍 Fully bilingual: toggle between Russian (`ru`) and English (`en`)\n",
        "- 📅 X-axis = years (e.g., 1913–1917)\n",
        "- 🎨 Configurable credit types via `SELECTED_CREDIT_ITEMS`\n",
        "- 📈 Dual-axis: positive (amount) and negative (count) bars share color per category\n",
        "- 🖼️ Rendered directly in Google Colab\n",
        "\n",
        "⚙️ Configure via:\n",
        "- `USE_LANGUAGE` — `\"ru\"` or `\"en\"`\n",
        "- `SELECTED_CREDIT_ITEMS` — list of `Name` values from `credit_items.csv`"
      ],
      "metadata": {
        "id": "W3qoTRWKzxKD"
      }
    },
    {
      "cell_type": "markdown",
      "source": [
        "⚙️ [2] Install Dependencies & Set Language + Credit Selection"
      ],
      "metadata": {
        "id": "vlpXhtKnuR33"
      }
    },
    {
      "cell_type": "code",
      "source": [
        "# Install compatible versions for static image rendering in Colab\n",
        "!pip install -q python-dotenv pandas plotly\n",
        "\n",
        "# Clone the repo if running in Colab (optional — if data not uploaded manually)\n",
        "import os\n",
        "\n",
        "if not os.path.exists('LLLE-R1900s'):\n",
        "    !git clone https://github.com/componavt/LLLE-R1900s.git\n",
        "    %cd LLLE-R1900s\n",
        "else:\n",
        "    %cd LLLE-R1900s\n",
        "\n",
        "# === LANGUAGE SWITCH ===\n",
        "USE_LANGUAGE = \"ru\"\n",
        "assert USE_LANGUAGE in (\"ru\", \"en\"), \"USE_LANGUAGE must be 'ru' or 'en'\"\n",
        "\n",
        "# === SELECT CREDIT TYPES TO VISUALIZE ===\n",
        "# Must use values from the 'Name' column in credit_items.csv\n",
        "SELECTED_CREDIT_ITEMS = [\"Migration\", \"CraftMaterials\", \"CraftTools\"]\n",
        "\n",
        "# Validate selection\n",
        "valid_names = set(pd.read_csv('data/credit_items.csv')['Name'])\n",
        "invalid = set(SELECTED_CREDIT_ITEMS) - valid_names\n",
        "if invalid:\n",
        "    raise ValueError(f\"Invalid credit item(s): {invalid}. Must be from 'Name' column in credit_items.csv.\")"
      ],
      "metadata": {
        "id": "WZuTtoCLz6KK",
        "outputId": "e91d7d62-9e8b-4175-b20e-177ff5b96f64",
        "colab": {
          "base_uri": "https://localhost:8080/"
        }
      },
      "execution_count": 1,
      "outputs": [
        {
          "output_type": "stream",
          "name": "stdout",
          "text": [
            "Cloning into 'LLLE-R1900s'...\n",
            "remote: Enumerating objects: 547, done.\u001b[K\n",
            "remote: Counting objects: 100% (547/547), done.\u001b[K\n",
            "remote: Compressing objects: 100% (245/245), done.\u001b[K\n",
            "remote: Total 547 (delta 409), reused 401 (delta 296), pack-reused 0 (from 0)\u001b[K\n",
            "Receiving objects: 100% (547/547), 1.40 MiB | 13.11 MiB/s, done.\n",
            "Resolving deltas: 100% (409/409), done.\n",
            "/content/LLLE-R1900s\n"
          ]
        }
      ]
    },
    {
      "cell_type": "markdown",
      "source": [
        "📥 [3] Load & Prepare Data"
      ],
      "metadata": {
        "id": "sEy1woACnSYi"
      }
    },
    {
      "cell_type": "code",
      "source": [
        "📥 [3] Load & Prepare Minimal Data for Bar Chart\n",
        "\n",
        "import os\n",
        "import pandas as pd\n",
        "from dotenv import load_dotenv\n",
        "\n",
        "# Load configuration\n",
        "load_dotenv('config.env')\n",
        "\n",
        "# Paths\n",
        "csv_out_dir = os.getenv('CSV_OUT_DIR', 'data/csv_out')\n",
        "output_file_name = os.getenv('OUTPUT_CSV_FILE')\n",
        "\n",
        "if not output_file_name:\n",
        "    csv_files = [f for f in os.listdir(csv_out_dir) if f.endswith('.csv')]\n",
        "    if not csv_files:\n",
        "        raise FileNotFoundError(\"No CSV files found in the output directory.\")\n",
        "    output_file_name = csv_files[0]\n",
        "\n",
        "csv_path = os.path.join(csv_out_dir, output_file_name)\n",
        "print(f\"Loading loan data from: {csv_path}\")\n",
        "\n",
        "# Load main loan data\n",
        "df_loans = pd.read_csv(csv_path)\n",
        "print(f\"Loaded {len(df_loans)} loan records.\")\n",
        "\n",
        "# Load credit items\n",
        "df_credit = pd.read_csv('data/credit_items.csv')\n",
        "print(f\"Loaded {len(df_credit)} credit item definitions.\")\n",
        "\n",
        "# --- Build credit item display label map ---\n",
        "if USE_LANGUAGE == \"ru\":\n",
        "    df_credit['display_label'] = df_credit['loan_short_ru']\n",
        "else:\n",
        "    df_credit['display_label'] = df_credit['Name']\n",
        "\n",
        "label_map = dict(zip(df_credit['Name'], df_credit['display_label']))\n",
        "\n",
        "# Validate selected credit items\n",
        "unknown_items = set(SELECTED_CREDIT_ITEMS) - set(df_credit['Name'])\n",
        "if unknown_items:\n",
        "    print(\"⚠️ Warning: Unknown credit_item in SELECTED_CREDIT_ITEMS:\", unknown_items)\n",
        "\n",
        "# Filter loans to only selected credit items\n",
        "df_loans = df_loans[df_loans['credit_item'].isin(SELECTED_CREDIT_ITEMS)].copy()\n",
        "\n",
        "# Ensure numeric types\n",
        "df_loans['amount_rubles'] = pd.to_numeric(df_loans['amount_rubles'], errors='coerce').fillna(0)\n",
        "df_loans['loan_count'] = pd.to_numeric(df_loans['loan_count'], errors='coerce').fillna(0).astype(int)\n",
        "\n",
        "print(f\"Filtered to {len(df_loans)} records for selected credit types: {SELECTED_CREDIT_ITEMS}\")"
      ],
      "metadata": {
        "colab": {
          "base_uri": "https://localhost:8080/"
        },
        "id": "ZbU28lXhz_3q",
        "outputId": "5204a568-fa21-4afc-e349-7a454976856f"
      },
      "execution_count": 2,
      "outputs": [
        {
          "output_type": "stream",
          "name": "stdout",
          "text": [
            "Loading loan data from: data/csv_out/loans_s28_i21.csv\n",
            "Loaded 1768 loan records.\n",
            "Loaded 21 credit item definitions.\n",
            "Loaded 29 settlements.\n",
            "✅ Data prepared with full 3×3 credit profile matrix.\n"
          ]
        }
      ]
    },
    {
      "cell_type": "markdown",
      "source": [
        "📊 [5] Grouped Bar Chart: Annual Amount (↑) and Count (↓) by Credit Type"
      ],
      "metadata": {
        "id": "JNSUYJ9rmAks"
      }
    },
    {
      "cell_type": "code",
      "source": [
        "📊 [5] Grouped Bar Chart: Annual Loan Amount and Count\n",
        "\n",
        "import plotly.graph_objects as go\n",
        "from plotly.subplots import make_subplots\n",
        "import numpy as np\n",
        "\n",
        "# Aggregate by year and credit_item\n",
        "df_annual = df_loans.groupby(['year', 'credit_item']).agg(\n",
        "    total_amount=('amount_rubles', 'sum'),\n",
        "    total_count=('loan_count', 'sum')\n",
        ").reset_index()\n",
        "\n",
        "# Convert amount to thousands for readability\n",
        "df_annual['total_amount_k'] = df_annual['total_amount'] / 1000.0\n",
        "\n",
        "# Get unique years and credit items (in selected order)\n",
        "years = sorted(df_annual['year'].unique())\n",
        "credit_items = SELECTED_CREDIT_ITEMS  # preserve user-defined order\n",
        "\n",
        "# Prepare data for plotting\n",
        "amount_data = {}\n",
        "count_data = {}\n",
        "for item in credit_items:\n",
        "    subset = df_annual[df_annual['credit_item'] == item]\n",
        "    amount_dict = dict(zip(subset['year'], subset['total_amount_k']))\n",
        "    count_dict = dict(zip(subset['year'], subset['total_count']))\n",
        "    amount_data[item] = [amount_dict.get(y, 0) for y in years]\n",
        "    count_data[item] = [-count_dict.get(y, 0) for y in years]  # negative for downward bars\n",
        "\n",
        "# Create figure\n",
        "fig = go.Figure()\n",
        "\n",
        "# Define colors (Plotly default palette)\n",
        "colors = plotly.colors.qualitative.Plotly\n",
        "\n",
        "# Add traces for amount (positive) and count (negative)\n",
        "for i, item in enumerate(credit_items):\n",
        "    color = colors[i % len(colors)]\n",
        "    label = label_map[item]\n",
        "\n",
        "    # Amount (upward bars)\n",
        "    fig.add_trace(go.Bar(\n",
        "        x=years,\n",
        "        y=amount_data[item],\n",
        "        name=f\"{label} — Amount\" if USE_LANGUAGE == \"en\" else f\"{label} — Сумма\",\n",
        "        marker_color=color,\n",
        "        offsetgroup=i,\n",
        "        legendgroup=item\n",
        "    ))\n",
        "\n",
        "    # Count (downward bars)\n",
        "    fig.add_trace(go.Bar(\n",
        "        x=years,\n",
        "        y=count_data[item],\n",
        "        name=f\"{label} — Count\" if USE_LANGUAGE == \"en\" else f\"{label} — Кол-во\",\n",
        "        marker_color=color,\n",
        "        opacity=0.7,\n",
        "        offsetgroup=i,\n",
        "        legendgroup=item,\n",
        "        showlegend=False  # avoid duplicate legend entries\n",
        "    ))\n",
        "\n",
        "# Titles and labels\n",
        "if USE_LANGUAGE == \"en\":\n",
        "    title = \"Annual Loan Volume by Credit Type\"\n",
        "    yaxis_title = \"Amount (thsd rub) ↑ / Number of Loans ↓\"\n",
        "    hover_amount = \"Amount: %{y:.1f}k rub\"\n",
        "    hover_count = \"Loans: %{y:.0f}\"\n",
        "else:\n",
        "    title = \"Годовой объём ссуд по категориям\"\n",
        "    yaxis_title = \"Сумма (тыс. руб.) ↑ / Число ссуд ↓\"\n",
        "    hover_amount = \"Сумма: %{y:.1f} тыс. руб.\"\n",
        "    hover_count = \"Ссуд: %{y:.0f}\"\n",
        "\n",
        "fig.update_layout(\n",
        "    title=title,\n",
        "    barmode='group',\n",
        "    xaxis=dict(title=\"Year\" if USE_LANGUAGE == \"en\" else \"Год\", tickmode='linear'),\n",
        "    yaxis=dict(title=yaxis_title),\n",
        "    legend_title=\"Credit Type\" if USE_LANGUAGE == \"en\" else \"Категория кредита\",\n",
        "    height=600,\n",
        "    font=dict(size=12)\n",
        ")\n",
        "\n",
        "# Show in Colab\n",
        "fig.show(renderer=\"colab\")\n",
        "\n",
        "print(f\"\\n✅ Displayed grouped bar chart for {len(credit_items)} credit types in {'English' if USE_LANGUAGE == 'en' else 'Russian'}.\")"
      ],
      "metadata": {
        "id": "pEsF6d4DmBow"
      },
      "execution_count": null,
      "outputs": []
    },
    {
      "cell_type": "markdown",
      "source": [
        "🌟 [4] Individual Settlement Charts\n",
        "\n",
        "📓 Ячейка 4: Отдельные диаграмма по всем поселениям (ещё карту бы...)"
      ],
      "metadata": {
        "id": "jgVf2Ig0ncIJ"
      }
    }
  ]
}